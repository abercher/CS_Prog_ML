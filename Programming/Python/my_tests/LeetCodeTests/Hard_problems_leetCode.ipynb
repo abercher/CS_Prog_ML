{
 "cells": [
  {
   "cell_type": "markdown",
   "metadata": {},
   "source": [
    "# Hard problems from leetCode"
   ]
  },
  {
   "cell_type": "markdown",
   "metadata": {},
   "source": [
    "## 159. Longest Substring with At Most Two Distinct Characters"
   ]
  },
  {
   "cell_type": "code",
   "execution_count": 78,
   "metadata": {},
   "outputs": [],
   "source": [
    "class Solution:\n",
    "    def lengthOfLongestSubstringTwoDistinct(self, s):\n",
    "        \"\"\"\n",
    "        :type s: str\n",
    "        :rtype: int\n",
    "        \"\"\"\n",
    "        if s == '':\n",
    "            return(0)\n",
    "        h_table = {'x': (0, s[0]), 'y': (0, s[0])}\n",
    "        max_len = 0\n",
    "        pt = 0\n",
    "        while True:\n",
    "            max_len += 1\n",
    "            if pt == (len(s)-1):\n",
    "                return(max_len)\n",
    "            pt += 1\n",
    "            if s[pt] != s[0]:\n",
    "                h_table['y'] = (pt, s[pt])\n",
    "                max_len += 1\n",
    "                break\n",
    "        run_len = max_len\n",
    "        for i in range(pt+1, len(s)):\n",
    "            c = s[i]\n",
    "            if c == h_table['y'][1]:\n",
    "                run_len += 1\n",
    "                if run_len > max_len:\n",
    "                    max_len = run_len\n",
    "            elif c == h_table['x'][1]:\n",
    "                h_table['x'] = h_table['y']\n",
    "                h_table['y'] = (i, c)\n",
    "                run_len += 1\n",
    "                if run_len > max_len:\n",
    "                    max_len = run_len\n",
    "            else:\n",
    "                run_len = i - h_table['y'][0] + 1\n",
    "                h_table['x'] = h_table['y']\n",
    "                h_table['y'] = (i, c)\n",
    "        return(max_len)\n",
    "                "
   ]
  },
  {
   "cell_type": "code",
   "execution_count": 79,
   "metadata": {},
   "outputs": [],
   "source": [
    "my_sol = Solution()"
   ]
  },
  {
   "cell_type": "code",
   "execution_count": 80,
   "metadata": {},
   "outputs": [
    {
     "data": {
      "text/plain": [
       "0"
      ]
     },
     "execution_count": 80,
     "metadata": {},
     "output_type": "execute_result"
    }
   ],
   "source": [
    "my_sol.lengthOfLongestSubstringTwoDistinct('')"
   ]
  },
  {
   "cell_type": "code",
   "execution_count": 10,
   "metadata": {},
   "outputs": [],
   "source": [
    "my_tuple = (0, 'a')"
   ]
  },
  {
   "cell_type": "code",
   "execution_count": 11,
   "metadata": {},
   "outputs": [
    {
     "data": {
      "text/plain": [
       "int"
      ]
     },
     "execution_count": 11,
     "metadata": {},
     "output_type": "execute_result"
    }
   ],
   "source": [
    "type(my_tuple[0])"
   ]
  },
  {
   "cell_type": "code",
   "execution_count": 13,
   "metadata": {},
   "outputs": [
    {
     "data": {
      "text/plain": [
       "str"
      ]
     },
     "execution_count": 13,
     "metadata": {},
     "output_type": "execute_result"
    }
   ],
   "source": [
    "type(my_tuple[1])"
   ]
  }
 ],
 "metadata": {
  "kernelspec": {
   "display_name": "Python 3",
   "language": "python",
   "name": "python3"
  },
  "language_info": {
   "codemirror_mode": {
    "name": "ipython",
    "version": 3
   },
   "file_extension": ".py",
   "mimetype": "text/x-python",
   "name": "python",
   "nbconvert_exporter": "python",
   "pygments_lexer": "ipython3",
   "version": "3.5.5"
  }
 },
 "nbformat": 4,
 "nbformat_minor": 2
}
