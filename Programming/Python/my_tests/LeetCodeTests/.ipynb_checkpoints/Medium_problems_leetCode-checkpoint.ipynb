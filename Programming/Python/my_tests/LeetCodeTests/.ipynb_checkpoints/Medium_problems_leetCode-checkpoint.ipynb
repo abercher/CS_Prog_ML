{
 "cells": [
  {
   "cell_type": "markdown",
   "metadata": {},
   "source": [
    "# Medium problems from leetCode"
   ]
  },
  {
   "cell_type": "markdown",
   "metadata": {},
   "source": [
    "## 2. Add Two Numbers"
   ]
  },
  {
   "cell_type": "code",
   "execution_count": 1,
   "metadata": {},
   "outputs": [],
   "source": [
    "# Definition for singly-linked list.\n",
    "class ListNode(object):\n",
    "     def __init__(self, x):\n",
    "            self.val = x\n",
    "            self.next = None"
   ]
  },
  {
   "cell_type": "code",
   "execution_count": 48,
   "metadata": {},
   "outputs": [],
   "source": [
    "def linked2int(linked):\n",
    "    n = linked.val\n",
    "    p = 1\n",
    "    while linked.next != None:\n",
    "        linked = linked.next\n",
    "        sign = (1, -1)[linked.val<0]\n",
    "        val = sign*linked.val\n",
    "        n = sign*(n + (10**p)*val)\n",
    "        p = p + 1\n",
    "    return(int(n))"
   ]
  },
  {
   "cell_type": "code",
   "execution_count": 68,
   "metadata": {},
   "outputs": [],
   "source": [
    "def int2linked(n):\n",
    "    \"\"\"\n",
    "    n: a positive integer\n",
    "    \"\"\"\n",
    "    sign = (1, -1)[n<0]\n",
    "    n = sign*n\n",
    "    n = str(n)\n",
    "    linked = ListNode(int(sign*(int(n[0]))))\n",
    "    for i in range(1, len(n)):\n",
    "        linked_old = linked\n",
    "        linked = ListNode(int(n[i]))\n",
    "        linked.next = linked_old\n",
    "    return linked"
   ]
  },
  {
   "cell_type": "code",
   "execution_count": 69,
   "metadata": {},
   "outputs": [],
   "source": [
    "x = 342\n",
    "y = 465"
   ]
  },
  {
   "cell_type": "code",
   "execution_count": 70,
   "metadata": {},
   "outputs": [],
   "source": [
    "linked = int2linked(y)"
   ]
  },
  {
   "cell_type": "code",
   "execution_count": 71,
   "metadata": {},
   "outputs": [
    {
     "data": {
      "text/plain": [
       "5"
      ]
     },
     "execution_count": 71,
     "metadata": {},
     "output_type": "execute_result"
    }
   ],
   "source": [
    "linked.val"
   ]
  },
  {
   "cell_type": "code",
   "execution_count": 72,
   "metadata": {},
   "outputs": [
    {
     "data": {
      "text/plain": [
       "465"
      ]
     },
     "execution_count": 72,
     "metadata": {},
     "output_type": "execute_result"
    }
   ],
   "source": [
    "linked2int(linked)"
   ]
  },
  {
   "cell_type": "code",
   "execution_count": 73,
   "metadata": {},
   "outputs": [],
   "source": [
    "linked2 = linked.next"
   ]
  },
  {
   "cell_type": "code",
   "execution_count": 74,
   "metadata": {},
   "outputs": [
    {
     "data": {
      "text/plain": [
       "6"
      ]
     },
     "execution_count": 74,
     "metadata": {},
     "output_type": "execute_result"
    }
   ],
   "source": [
    "linked2.val"
   ]
  },
  {
   "cell_type": "code",
   "execution_count": 75,
   "metadata": {},
   "outputs": [],
   "source": [
    "linked3 = linked2.next"
   ]
  },
  {
   "cell_type": "code",
   "execution_count": 76,
   "metadata": {},
   "outputs": [
    {
     "data": {
      "text/plain": [
       "4"
      ]
     },
     "execution_count": 76,
     "metadata": {},
     "output_type": "execute_result"
    }
   ],
   "source": [
    "linked3.val"
   ]
  },
  {
   "cell_type": "markdown",
   "metadata": {},
   "source": [
    "My solution which got accepted, although it doesn't correspond to the idea presented in the solution:"
   ]
  },
  {
   "cell_type": "code",
   "execution_count": 77,
   "metadata": {},
   "outputs": [],
   "source": [
    "class Solution(object):\n",
    "    def addTwoNumbers(self, l1, l2):\n",
    "        \"\"\"\n",
    "        :type l1: ListNode\n",
    "        :type l2: ListNode\n",
    "        :rtype: ListNode\n",
    "        \"\"\"\n",
    "        int1 = linked2int(l1)\n",
    "        int2 = linked2int(l2)\n",
    "        return(int2linked(int1+int2))"
   ]
  },
  {
   "cell_type": "code",
   "execution_count": 78,
   "metadata": {},
   "outputs": [],
   "source": [
    "my_sol = Solution()"
   ]
  },
  {
   "cell_type": "code",
   "execution_count": 79,
   "metadata": {},
   "outputs": [],
   "source": [
    "l1 = int2linked(-342)\n",
    "l2 = int2linked(465)\n",
    "linked_sum = my_sol.addTwoNumbers(l1, l2)"
   ]
  },
  {
   "cell_type": "code",
   "execution_count": 81,
   "metadata": {},
   "outputs": [
    {
     "data": {
      "text/plain": [
       "123"
      ]
     },
     "execution_count": 81,
     "metadata": {},
     "output_type": "execute_result"
    }
   ],
   "source": [
    "linked2int(linked_sum)"
   ]
  },
  {
   "cell_type": "code",
   "execution_count": 82,
   "metadata": {},
   "outputs": [
    {
     "name": "stdout",
     "output_type": "stream",
     "text": [
      "-342 465\n"
     ]
    }
   ],
   "source": [
    "int1 = linked2int(l1)\n",
    "int2 = linked2int(l2)\n",
    "print(int1, int2)"
   ]
  },
  {
   "cell_type": "code",
   "execution_count": 85,
   "metadata": {},
   "outputs": [
    {
     "name": "stdout",
     "output_type": "stream",
     "text": [
      "10\n",
      "0\n",
      "1\n"
     ]
    }
   ],
   "source": [
    "l1 = int2linked(5)\n",
    "l2 = int2linked(5)\n",
    "linked_sum = my_sol.addTwoNumbers(l1, l2)\n",
    "print(linked2int(linked_sum))\n",
    "print(linked_sum.val)\n",
    "print(linked_sum.next.val)"
   ]
  },
  {
   "cell_type": "markdown",
   "metadata": {},
   "source": [
    "The official solution looks like this:"
   ]
  },
  {
   "cell_type": "code",
   "execution_count": null,
   "metadata": {},
   "outputs": [],
   "source": [
    "class Solution:\n",
    "# @return a ListNode\n",
    "def addTwoNumbers(self, l1, l2):\n",
    "    carry = 0\n",
    "    root = n = ListNode(0)\n",
    "    while l1 or l2 or carry:\n",
    "        v1 = v2 = 0\n",
    "        if l1:\n",
    "            v1 = l1.val\n",
    "            l1 = l1.next\n",
    "        if l2:\n",
    "            v2 = l2.val\n",
    "            l2 = l2.next\n",
    "        carry, val = divmod(v1+v2+carry, 10)\n",
    "        n.next = ListNode(val)\n",
    "        n = n.next\n",
    "    return root.next"
   ]
  },
  {
   "cell_type": "markdown",
   "metadata": {},
   "source": [
    "But it looks like it doesn't support the negative integers."
   ]
  },
  {
   "cell_type": "markdown",
   "metadata": {},
   "source": [
    "## 3. Longest Substring Without Repeating Characters"
   ]
  },
  {
   "cell_type": "code",
   "execution_count": 3,
   "metadata": {},
   "outputs": [],
   "source": [
    "my_str = 'abcabcd'\n",
    "my_set = set(my_str)"
   ]
  },
  {
   "cell_type": "code",
   "execution_count": 108,
   "metadata": {},
   "outputs": [
    {
     "data": {
      "text/plain": [
       "2"
      ]
     },
     "execution_count": 108,
     "metadata": {},
     "output_type": "execute_result"
    }
   ],
   "source": [
    "my_str[1:].index('a')"
   ]
  },
  {
   "cell_type": "code",
   "execution_count": 106,
   "metadata": {},
   "outputs": [
    {
     "data": {
      "text/plain": [
       "4"
      ]
     },
     "execution_count": 106,
     "metadata": {},
     "output_type": "execute_result"
    }
   ],
   "source": [
    "len(my_set)"
   ]
  },
  {
   "cell_type": "markdown",
   "metadata": {},
   "source": [
    "This solution seems to work but is too slow."
   ]
  },
  {
   "cell_type": "code",
   "execution_count": 157,
   "metadata": {},
   "outputs": [],
   "source": [
    "class Solution(object):\n",
    "    def lengthOfLongestSubstring(self, s):\n",
    "        \"\"\"\n",
    "        :type s: str\n",
    "        :rtype: int\n",
    "        \"\"\"\n",
    "        t_str = s\n",
    "        max_len = 0\n",
    "        while(max_len < len(t_str)):\n",
    "            s_str = ''\n",
    "            for i in range(len(t_str)):\n",
    "                c = t_str[i]\n",
    "                if c not in set(s_str):\n",
    "                    s_str += c\n",
    "                    if len(s_str) > max_len:\n",
    "                        max_len = len(s_str)\n",
    "                else:\n",
    "                    if len(s_str) > max_len:\n",
    "                        max_len = len(s_str)\n",
    "                    t_str = t_str[t_str.index(c)+1:]\n",
    "                    s_str = ''\n",
    "                    break\n",
    "        return(max_len)"
   ]
  },
  {
   "cell_type": "code",
   "execution_count": 160,
   "metadata": {},
   "outputs": [],
   "source": [
    "my_sol = Solution()"
   ]
  },
  {
   "cell_type": "code",
   "execution_count": 161,
   "metadata": {},
   "outputs": [
    {
     "data": {
      "text/plain": [
       "4"
      ]
     },
     "execution_count": 161,
     "metadata": {},
     "output_type": "execute_result"
    }
   ],
   "source": [
    "my_sol.lengthOfLongestSubstring(my_str)"
   ]
  },
  {
   "cell_type": "code",
   "execution_count": 162,
   "metadata": {},
   "outputs": [],
   "source": [
    "my_str2 = 'babcdefgh'"
   ]
  },
  {
   "cell_type": "code",
   "execution_count": 163,
   "metadata": {},
   "outputs": [
    {
     "data": {
      "text/plain": [
       "8"
      ]
     },
     "execution_count": 163,
     "metadata": {},
     "output_type": "execute_result"
    }
   ],
   "source": [
    "my_sol.lengthOfLongestSubstring(my_str2)"
   ]
  },
  {
   "cell_type": "markdown",
   "metadata": {},
   "source": [
    "This is my implementation of the solution of the correction (and it passed the test):"
   ]
  },
  {
   "cell_type": "code",
   "execution_count": 4,
   "metadata": {},
   "outputs": [],
   "source": [
    "class Solution(object):\n",
    "    def lengthOfLongestSubstring(self, s):\n",
    "        \"\"\"\n",
    "        :type s: str\n",
    "        :rtype: int\n",
    "        \"\"\"\n",
    "        max_len = 0\n",
    "        h_table = {}\n",
    "        pt = 0\n",
    "        while (pt < len(s)):\n",
    "            c = s[pt]\n",
    "            if c not in h_table:\n",
    "                h_table[c] = pt\n",
    "                pt += 1\n",
    "                if len(h_table) > max_len:\n",
    "                    max_len = len(h_table)\n",
    "            else:\n",
    "                pt = h_table[c] + 1\n",
    "                h_table = {}\n",
    "        return(max_len)"
   ]
  },
  {
   "cell_type": "code",
   "execution_count": 5,
   "metadata": {},
   "outputs": [
    {
     "name": "stdout",
     "output_type": "stream",
     "text": [
      "4\n"
     ]
    }
   ],
   "source": [
    "my_sol = Solution()\n",
    "print(my_sol.lengthOfLongestSubstring(my_str))"
   ]
  },
  {
   "cell_type": "code",
   "execution_count": 6,
   "metadata": {},
   "outputs": [
    {
     "name": "stdout",
     "output_type": "stream",
     "text": [
      "4\n"
     ]
    }
   ],
   "source": [
    "print(my_sol.lengthOfLongestSubstring('defaaaababc'))"
   ]
  },
  {
   "cell_type": "markdown",
   "metadata": {},
   "source": [
    "## .100 Same Tree"
   ]
  },
  {
   "cell_type": "code",
   "execution_count": null,
   "metadata": {},
   "outputs": [],
   "source": [
    "# Definition for a binary tree node.\n",
    "# class TreeNode:\n",
    "#     def __init__(self, x):\n",
    "#         self.val = x\n",
    "#         self.left = None\n",
    "#         self.right = None\n",
    "\n",
    "class Solution():\n",
    "    def isSameTree(self, p, q):\n",
    "        stack = []\n",
    "        stack.append((p,q))\n",
    "        while stack:\n",
    "            p, q = stack.pop()\n",
    "            if not p and not q:\n",
    "                continue\n",
    "\n",
    "            if p and q:   \n",
    "                if p.val != q.val:\n",
    "                    return False\n",
    "                else:\n",
    "                    stack.append((p.left, q.left))\n",
    "                    stack.append((p.right, q.right))\n",
    "            else:\n",
    "                return False\n",
    "        return True"
   ]
  },
  {
   "cell_type": "markdown",
   "metadata": {},
   "source": [
    "## .505 The Maze II"
   ]
  },
  {
   "cell_type": "raw",
   "metadata": {},
   "source": [
    "Here I will try to implement the solutions DFS and BFS."
   ]
  },
  {
   "cell_type": "markdown",
   "metadata": {},
   "source": [
    "### BFS"
   ]
  },
  {
   "cell_type": "markdown",
   "metadata": {},
   "source": [
    "This solution works and was quick enough to pass the test."
   ]
  },
  {
   "cell_type": "code",
   "execution_count": 50,
   "metadata": {},
   "outputs": [],
   "source": [
    "class Solution:\n",
    "    def shortestDistance(self, maze, start, destination):\n",
    "        \"\"\"\n",
    "        :type maze: List[List[int]]\n",
    "        :type start: List[int]\n",
    "        :type destination: List[int]\n",
    "        :rtype: int\n",
    "        \"\"\"\n",
    "        m = len(maze)\n",
    "        n = len(maze[0])\n",
    "        import numpy as np\n",
    "        dist = np.full(shape = (m, n), fill_value = m*n+1)\n",
    "        dirs = ((1, 0), (-1, 0), (0, 1), (0, -1))\n",
    "        from collections import deque\n",
    "        queue = deque()\n",
    "        queue.append(start)\n",
    "        dist[start[0], start[1]] = 0\n",
    "        while(queue):\n",
    "            y, x = queue.popleft()\n",
    "            for dir in dirs:\n",
    "                x_new = x + dir[0]\n",
    "                y_new = y + dir[1]\n",
    "                while (x_new < n) and (x_new >= 0) and (y_new < m) and (y_new >= 0) and maze[y_new][x_new]==0:\n",
    "                    x_new += dir[0]\n",
    "                    y_new += dir[1]\n",
    "                \n",
    "                x_new -= dir[0]\n",
    "                y_new -= dir[1]\n",
    "                if dist[y_new, x_new] > (dist[y, x] + max(x_new - x, x - x_new) + max(y_new - y, y - y_new)):\n",
    "                    dist[y_new, x_new] = (dist[y, x] + max(x_new - x, x - x_new) + max(y_new - y, y - y_new))\n",
    "                    queue.append((y_new, x_new))\n",
    "        if dist[destination[0], destination[1]] == m*n+1:\n",
    "            return -1\n",
    "        else:\n",
    "            return int(dist[destination[0], destination[1]])"
   ]
  },
  {
   "cell_type": "code",
   "execution_count": 4,
   "metadata": {},
   "outputs": [],
   "source": [
    "maze = [[0,0,0,0,1,0,0],[0,0,1,0,0,0,0],[0,0,0,0,0,0,0],[0,0,0,0,0,0,1],[0,1,0,0,0,0,0],[0,0,0,1,0,0,0],[0,0,0,0,0,0,0],[0,0,1,0,0,0,1],[0,0,0,0,1,0,0]]\n",
    "start = [0,0]\n",
    "destination = [8,6]"
   ]
  },
  {
   "cell_type": "code",
   "execution_count": 47,
   "metadata": {},
   "outputs": [
    {
     "data": {
      "text/plain": [
       "[[0, 0, 0, 0, 1, 0, 0],\n",
       " [0, 0, 1, 0, 0, 0, 0],\n",
       " [0, 0, 0, 0, 0, 0, 0],\n",
       " [0, 0, 0, 0, 0, 0, 1],\n",
       " [0, 1, 0, 0, 0, 0, 0],\n",
       " [0, 0, 0, 1, 0, 0, 0],\n",
       " [0, 0, 0, 0, 0, 0, 0],\n",
       " [0, 0, 1, 0, 0, 0, 1],\n",
       " [0, 0, 0, 0, 1, 0, 0]]"
      ]
     },
     "execution_count": 47,
     "metadata": {},
     "output_type": "execute_result"
    }
   ],
   "source": [
    "maze"
   ]
  },
  {
   "cell_type": "code",
   "execution_count": 52,
   "metadata": {},
   "outputs": [],
   "source": [
    "my_solution = Solution()"
   ]
  },
  {
   "cell_type": "code",
   "execution_count": 53,
   "metadata": {},
   "outputs": [
    {
     "data": {
      "text/plain": [
       "26"
      ]
     },
     "execution_count": 53,
     "metadata": {},
     "output_type": "execute_result"
    }
   ],
   "source": [
    "my_solution.shortestDistance(maze, start, destination)"
   ]
  },
  {
   "cell_type": "markdown",
   "metadata": {},
   "source": [
    "### DFS"
   ]
  },
  {
   "cell_type": "markdown",
   "metadata": {},
   "source": [
    "This solution also seems to work but it was too slow to pass the test."
   ]
  },
  {
   "cell_type": "code",
   "execution_count": 60,
   "metadata": {},
   "outputs": [],
   "source": [
    "class Solution:\n",
    "    def shortestDistance(self, maze, start, destination):\n",
    "        \"\"\"\n",
    "        :type maze: List[List[int]]\n",
    "        :type start: List[int]\n",
    "        :type destination: List[int]\n",
    "        :rtype: int\n",
    "        \"\"\"\n",
    "        \n",
    "        m = len(maze)\n",
    "        n = len(maze[0])\n",
    "        import numpy as np\n",
    "        dist = np.full(shape=(m, n), fill_value=m*n+1)\n",
    "        dist[start[0], start[1]] = 0\n",
    "        dirs = ((0, 1), (0, -1), (1, 0), (-1, 0))\n",
    "        def dfs(start, dist):\n",
    "            y, x = start\n",
    "            for d in dirs:\n",
    "                x_new = x + d[1]\n",
    "                y_new = y + d[0]\n",
    "                while (0 <= x_new < n) and (0 <= y_new < m) and (maze[y_new][x_new] == 0):\n",
    "                    x_new += d[1]\n",
    "                    y_new += d[0]\n",
    "                x_new -= d[1]\n",
    "                y_new -= d[0]\n",
    "                if dist[y_new, x_new] > dist[y, x] + max(x-x_new, x_new-x) + max(y-y_new, y_new-y):\n",
    "                    dist[y_new, x_new] = dist[y, x] + max(x-x_new, x_new-x) + max(y-y_new, y_new-y)\n",
    "                    dist = dfs((y_new, x_new), dist)\n",
    "            return dist\n",
    "        dist = dfs(start, dist)\n",
    "        if dist[destination[0], destination[1]] == m*n+1:\n",
    "            return -1\n",
    "        else:\n",
    "            return(int(dist[destination[0], destination[1]]))"
   ]
  },
  {
   "cell_type": "code",
   "execution_count": 85,
   "metadata": {},
   "outputs": [],
   "source": [
    "class Solution:\n",
    "    def shortestDistance(self, maze, start, destination):\n",
    "        \"\"\"\n",
    "        :type maze: List[List[int]]\n",
    "        :type start: List[int]\n",
    "        :type destination: List[int]\n",
    "        :rtype: int\n",
    "        \"\"\"\n",
    "        \n",
    "        m = len(maze)\n",
    "        n = len(maze[0])\n",
    "        import numpy as np\n",
    "        dist = np.full(shape=(m, n), fill_value=m*n+1)\n",
    "        dist[start[0], start[1]] = 0\n",
    "        dirs = ((0, 1), (0, -1), (1, 0), (-1, 0))\n",
    "        def dfs(start):\n",
    "            y, x = start\n",
    "            for d in dirs:\n",
    "                x_new = x + d[1]\n",
    "                y_new = y + d[0]\n",
    "                while (0 <= x_new < n) and (0 <= y_new < m) and (maze[y_new][x_new] == 0):\n",
    "                    x_new += d[1]\n",
    "                    y_new += d[0]\n",
    "                x_new -= d[1]\n",
    "                y_new -= d[0]\n",
    "                if dist[y_new, x_new] > dist[y, x] + max(x-x_new, x_new-x) + max(y-y_new, y_new-y):\n",
    "                    dist[y_new, x_new] = dist[y, x] + max(x-x_new, x_new-x) + max(y-y_new, y_new-y)\n",
    "                    dfs((y_new, x_new))\n",
    "        dfs(start)\n",
    "        if dist[destination[0], destination[1]] == m*n+1:\n",
    "            return -1\n",
    "        else:\n",
    "            return(int(dist[destination[0], destination[1]]))"
   ]
  },
  {
   "cell_type": "code",
   "execution_count": 86,
   "metadata": {},
   "outputs": [],
   "source": [
    "my_solution = Solution()"
   ]
  },
  {
   "cell_type": "code",
   "execution_count": 87,
   "metadata": {},
   "outputs": [],
   "source": [
    "maze = [[0,0,0,0,1,0,0],[0,0,1,0,0,0,0],[0,0,0,0,0,0,0],[0,0,0,0,0,0,1],[0,1,0,0,0,0,0],[0,0,0,1,0,0,0],[0,0,0,0,0,0,0],[0,0,1,0,0,0,1],[0,0,0,0,1,0,0]]\n",
    "start = [0,0]\n",
    "destination = [8,6]"
   ]
  },
  {
   "cell_type": "code",
   "execution_count": 88,
   "metadata": {},
   "outputs": [
    {
     "data": {
      "text/plain": [
       "[[0, 0, 0, 0, 1, 0, 0],\n",
       " [0, 0, 1, 0, 0, 0, 0],\n",
       " [0, 0, 0, 0, 0, 0, 0],\n",
       " [0, 0, 0, 0, 0, 0, 1],\n",
       " [0, 1, 0, 0, 0, 0, 0],\n",
       " [0, 0, 0, 1, 0, 0, 0],\n",
       " [0, 0, 0, 0, 0, 0, 0],\n",
       " [0, 0, 1, 0, 0, 0, 1],\n",
       " [0, 0, 0, 0, 1, 0, 0]]"
      ]
     },
     "execution_count": 88,
     "metadata": {},
     "output_type": "execute_result"
    }
   ],
   "source": [
    "maze"
   ]
  },
  {
   "cell_type": "code",
   "execution_count": 89,
   "metadata": {},
   "outputs": [
    {
     "data": {
      "text/plain": [
       "26"
      ]
     },
     "execution_count": 89,
     "metadata": {},
     "output_type": "execute_result"
    }
   ],
   "source": [
    "my_solution.shortestDistance(maze, start, destination)"
   ]
  },
  {
   "cell_type": "code",
   "execution_count": 98,
   "metadata": {},
   "outputs": [
    {
     "name": "stdout",
     "output_type": "stream",
     "text": [
      "0\n"
     ]
    }
   ],
   "source": [
    "x, y = start\n",
    "print(y)"
   ]
  },
  {
   "cell_type": "markdown",
   "metadata": {},
   "source": [
    "## .695 Max Area of Island"
   ]
  },
  {
   "cell_type": "markdown",
   "metadata": {},
   "source": [
    "There is something weird with this code: normaly it should throw an error since seen is note defined in the function `area`."
   ]
  },
  {
   "cell_type": "code",
   "execution_count": 13,
   "metadata": {},
   "outputs": [],
   "source": [
    "class Solution(object):\n",
    "    def maxAreaOfIsland(self, grid):\n",
    "        seen = set()\n",
    "        def area(r, c):\n",
    "            if not (0 <= r < len(grid) and 0 <= c < len(grid[0])\n",
    "                    and (r, c) not in seen and grid[r][c]):\n",
    "                return 0\n",
    "            seen.add((r, c))\n",
    "            return (1 + area(r+1, c) + area(r-1, c) +\n",
    "                    area(r, c-1) + area(r, c+1))\n",
    "\n",
    "        return max(area(r, c)\n",
    "                   for r in range(len(grid))\n",
    "                   for c in range(len(grid[0])))"
   ]
  },
  {
   "cell_type": "code",
   "execution_count": 14,
   "metadata": {},
   "outputs": [],
   "source": [
    "grid = [[0,0,1,0,0,0,0,1,0,0,0,0,0],\n",
    "         [0,0,0,0,0,0,0,1,1,1,0,0,0],\n",
    "         [0,1,1,0,1,0,0,0,0,0,0,0,0],\n",
    "         [0,1,0,0,1,1,0,0,1,0,1,0,0],\n",
    "         [0,1,0,0,1,1,0,0,1,1,1,0,0],\n",
    "         [0,0,0,0,0,0,0,0,0,0,1,0,0],\n",
    "         [0,0,0,0,0,0,0,1,1,1,0,0,0],\n",
    "         [0,0,0,0,0,0,0,1,1,0,0,0,0]]"
   ]
  },
  {
   "cell_type": "code",
   "execution_count": 15,
   "metadata": {},
   "outputs": [],
   "source": [
    "my_sol = Solution()"
   ]
  },
  {
   "cell_type": "code",
   "execution_count": 16,
   "metadata": {},
   "outputs": [
    {
     "data": {
      "text/plain": [
       "6"
      ]
     },
     "execution_count": 16,
     "metadata": {},
     "output_type": "execute_result"
    }
   ],
   "source": [
    "my_sol.maxAreaOfIsland(grid)"
   ]
  },
  {
   "cell_type": "code",
   "execution_count": 83,
   "metadata": {},
   "outputs": [],
   "source": [
    "class MyClass():\n",
    "    def met(self, a):\n",
    "        a += 1\n",
    "        print('a = ', a)\n",
    "        b = {'foo'}\n",
    "        print('b = ', b)\n",
    "        def f1():\n",
    "            b.add('bar')\n",
    "        def f2():\n",
    "            nonlocal a\n",
    "            a += 10\n",
    "        f1()\n",
    "        print('b = ', b)\n",
    "        f2()\n",
    "        print('a = ', a)"
   ]
  },
  {
   "cell_type": "code",
   "execution_count": 84,
   "metadata": {},
   "outputs": [
    {
     "name": "stdout",
     "output_type": "stream",
     "text": [
      "a =  2\n",
      "b =  {'foo'}\n",
      "b =  {'foo', 'bar'}\n",
      "a =  12\n"
     ]
    }
   ],
   "source": [
    "my_class = MyClass()\n",
    "my_class.met(1)"
   ]
  },
  {
   "cell_type": "code",
   "execution_count": 2,
   "metadata": {},
   "outputs": [
    {
     "data": {
      "text/plain": [
       "-23"
      ]
     },
     "execution_count": 2,
     "metadata": {},
     "output_type": "execute_result"
    }
   ],
   "source": [
    "int('  -23')"
   ]
  },
  {
   "cell_type": "markdown",
   "metadata": {},
   "source": [
    "## 199. Binary Tree Right Side View"
   ]
  },
  {
   "cell_type": "markdown",
   "metadata": {},
   "source": [
    "For this one I looked directly at the solution. Interestingly the implementation of the DFS and BFS are very similar. The difference is that for DFS we use .pop() and then we obtain the last node that we added to stack, whereas for BFS we use .popleft() and get the oldest non visited node. "
   ]
  },
  {
   "cell_type": "markdown",
   "metadata": {},
   "source": [
    "### DFS"
   ]
  },
  {
   "cell_type": "code",
   "execution_count": 1,
   "metadata": {},
   "outputs": [],
   "source": [
    "class Solution(object):\n",
    "    def rightSideView(self, root):\n",
    "        rightmost_value_at_depth = dict() # depth -> node.val\n",
    "        max_depth = -1\n",
    "\n",
    "        stack = [(root, 0)]\n",
    "        while stack:\n",
    "            node, depth = stack.pop()\n",
    "\n",
    "            if node is not None:\n",
    "                # maintain knowledge of the number of levels in the tree.\n",
    "                max_depth = max(max_depth, depth)\n",
    "\n",
    "                # only insert into dict if depth is not already present.\n",
    "                rightmost_value_at_depth.setdefault(depth, node.val)\n",
    "\n",
    "                stack.append((node.left, depth+1))\n",
    "                stack.append((node.right, depth+1))\n",
    "\n",
    "        return [rightmost_value_at_depth[depth] for depth in range(max_depth+1)]"
   ]
  },
  {
   "cell_type": "markdown",
   "metadata": {},
   "source": [
    "### BFS"
   ]
  },
  {
   "cell_type": "code",
   "execution_count": 2,
   "metadata": {},
   "outputs": [],
   "source": [
    "from collections import deque\n",
    "\n",
    "class Solution(object):\n",
    "    def rightSideView(self, root):\n",
    "        rightmost_value_at_depth = dict() # depth -> node.val\n",
    "        max_depth = -1\n",
    "\n",
    "        queue = deque([(root, 0)])\n",
    "        while queue:\n",
    "            node, depth = queue.popleft()\n",
    "\n",
    "            if node is not None:\n",
    "                # maintain knowledge of the number of levels in the tree.\n",
    "                max_depth = max(max_depth, depth)\n",
    "\n",
    "                # overwrite rightmost value at current depth. the correct value\n",
    "                # will never be overwritten, as it is always visited last.\n",
    "                rightmost_value_at_depth[depth] = node.val\n",
    "\n",
    "                queue.append((node.left, depth+1))\n",
    "                queue.append((node.right, depth+1))\n",
    "\n",
    "        return [rightmost_value_at_depth[depth] for depth in range(max_depth+1)]"
   ]
  }
 ],
 "metadata": {
  "kernelspec": {
   "display_name": "Python 3",
   "language": "python",
   "name": "python3"
  },
  "language_info": {
   "codemirror_mode": {
    "name": "ipython",
    "version": 3
   },
   "file_extension": ".py",
   "mimetype": "text/x-python",
   "name": "python",
   "nbconvert_exporter": "python",
   "pygments_lexer": "ipython3",
   "version": "3.5.5"
  }
 },
 "nbformat": 4,
 "nbformat_minor": 2
}
