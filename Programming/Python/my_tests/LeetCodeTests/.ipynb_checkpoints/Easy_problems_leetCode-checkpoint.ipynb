{
 "cells": [
  {
   "cell_type": "markdown",
   "metadata": {},
   "source": [
    "# Easy test from leetCode"
   ]
  },
  {
   "cell_type": "markdown",
   "metadata": {},
   "source": [
    "## 1.Two sums"
   ]
  },
  {
   "cell_type": "code",
   "execution_count": 4,
   "metadata": {},
   "outputs": [],
   "source": [
    "class Solution:\n",
    "    def twoSum(self, nums, target):\n",
    "        \"\"\"\n",
    "        :type nums: List[int]\n",
    "        :type target: int\n",
    "        :rtype: List[int]\n",
    "        \"\"\"\n",
    "        idx = []\n",
    "        for i in range(len(nums)):\n",
    "            for j in range(i+1, len(nums)):\n",
    "                if (nums[i]+nums[j]==target):\n",
    "                    return([i, j])\n",
    "        print(\"No indexes satisfying the required condition\")\n",
    "        return([0,0])\n",
    "                "
   ]
  },
  {
   "cell_type": "markdown",
   "metadata": {},
   "source": [
    "Test:"
   ]
  },
  {
   "cell_type": "code",
   "execution_count": 5,
   "metadata": {},
   "outputs": [
    {
     "name": "stdout",
     "output_type": "stream",
     "text": [
      "[0, 1]\n"
     ]
    }
   ],
   "source": [
    "nums = [2, 7, 11, 15]\n",
    "target = 9\n",
    "my_sol = Solution()\n",
    "print(my_sol.twoSum(nums, target))"
   ]
  },
  {
   "cell_type": "markdown",
   "metadata": {},
   "source": [
    "## 167. Two Sum II - Input array is sorted"
   ]
  },
  {
   "cell_type": "code",
   "execution_count": 10,
   "metadata": {},
   "outputs": [],
   "source": [
    "class Solution:\n",
    "    def twoSum(self, numbers, target):\n",
    "        \"\"\"\n",
    "        :type numbers: List[int]\n",
    "        :type target: int\n",
    "        :rtype: List[int]\n",
    "        \"\"\"\n",
    "        for i in range(len(numbers)):\n",
    "            for j in range(i+1, len(numbers)):\n",
    "                sum_ = numbers[i]+numbers[j]\n",
    "                if sum_ == target:\n",
    "                    return([i+1, j+1])\n",
    "                if sum_ > target:\n",
    "                    break\n",
    "        print(\"No indexes satisfying the required condition\")\n",
    "        return([1, 2])"
   ]
  },
  {
   "cell_type": "code",
   "execution_count": 11,
   "metadata": {},
   "outputs": [
    {
     "name": "stdout",
     "output_type": "stream",
     "text": [
      "[1, 2]\n"
     ]
    }
   ],
   "source": [
    "nums = [2, 7, 11, 15]\n",
    "target = 9\n",
    "my_sol = Solution()\n",
    "print(my_sol.twoSum(nums, target))"
   ]
  },
  {
   "cell_type": "code",
   "execution_count": 12,
   "metadata": {},
   "outputs": [
    {
     "name": "stdout",
     "output_type": "stream",
     "text": [
      "[1, 4]\n"
     ]
    }
   ],
   "source": [
    "nums = [-1, 2, 7, 11, 15]\n",
    "target = 10\n",
    "print(my_sol.twoSum(nums, target))"
   ]
  },
  {
   "cell_type": "markdown",
   "metadata": {},
   "source": [
    "The solution above was too slow. This is the official solution:"
   ]
  },
  {
   "cell_type": "code",
   "execution_count": null,
   "metadata": {},
   "outputs": [],
   "source": [
    "class Solution(object):\n",
    "    def twoSum(self, numbers, target):\n",
    "        \"\"\"\n",
    "        :type numbers: List[int]\n",
    "        :type target: int\n",
    "        :rtype: List[int]\n",
    "        \"\"\"\n",
    "        i = 0\n",
    "        j = len(numbers)-1\n",
    "        while i<j:\n",
    "            if numbers[i] + numbers[j] == target:\n",
    "                return [i+1,j+1]\n",
    "            elif numbers[i] + numbers[j] > target:\n",
    "                j-= 1\n",
    "            else:\n",
    "                i += 1\n",
    "        return []"
   ]
  },
  {
   "cell_type": "markdown",
   "metadata": {},
   "source": [
    "## 7. Reverse Integer"
   ]
  },
  {
   "cell_type": "code",
   "execution_count": 36,
   "metadata": {},
   "outputs": [],
   "source": [
    "class Solution:\n",
    "    def reverse(self, x):\n",
    "        \"\"\"\n",
    "        :type x: int\n",
    "        :rtype: int\n",
    "        \"\"\"\n",
    "        sign = (1, -1)[x<0]\n",
    "        if x*sign >= 2147483647:\n",
    "            return 0\n",
    "        else:\n",
    "            x_str = str(sign*x)\n",
    "            x_rev = int(x_str[::-1])\n",
    "            if x_rev >= 2147483647:\n",
    "                return 0\n",
    "            else:\n",
    "                return(sign*int(x_str[::-1]))        "
   ]
  },
  {
   "cell_type": "code",
   "execution_count": 38,
   "metadata": {},
   "outputs": [
    {
     "name": "stdout",
     "output_type": "stream",
     "text": [
      "-51\n",
      "<class 'int'>\n"
     ]
    }
   ],
   "source": [
    "my_sol = Solution()\n",
    "x = -150\n",
    "x_rev = my_sol.reverse(x)\n",
    "print(x_rev)\n",
    "print(type(x_rev))"
   ]
  },
  {
   "cell_type": "markdown",
   "metadata": {},
   "source": [
    "## 190. Reverse Bits"
   ]
  },
  {
   "cell_type": "code",
   "execution_count": 79,
   "metadata": {},
   "outputs": [],
   "source": [
    "class Solution:\n",
    "    # @param n, an integer\n",
    "    # @return an integer\n",
    "    def reverseBits(self, n):\n",
    "        sign = (1, -1)[n<0]\n",
    "        if sign*n > 4294967295:\n",
    "            return 0\n",
    "        else:\n",
    "            n_bit = '{0:032b}'.format(sign*n)\n",
    "            n_rev_bin = n_bit[::-1]\n",
    "            n_rev = int(n_rev_bin, 2)\n",
    "            if n_rev > 4294967295:\n",
    "                print('overflow')\n",
    "                return 0\n",
    "            else:\n",
    "                return sign*n_rev"
   ]
  },
  {
   "cell_type": "code",
   "execution_count": 80,
   "metadata": {},
   "outputs": [],
   "source": [
    "n_input = 43261596\n",
    "n_output = 964176192"
   ]
  },
  {
   "cell_type": "code",
   "execution_count": 81,
   "metadata": {},
   "outputs": [
    {
     "name": "stdout",
     "output_type": "stream",
     "text": [
      "964176192\n"
     ]
    }
   ],
   "source": [
    "my_sol = Solution()\n",
    "print(my_sol.reverseBits(n_input))"
   ]
  },
  {
   "cell_type": "code",
   "execution_count": 82,
   "metadata": {},
   "outputs": [
    {
     "name": "stdout",
     "output_type": "stream",
     "text": [
      "2147483648\n"
     ]
    }
   ],
   "source": [
    "n_input = 1\n",
    "print(my_sol.reverseBits(n_input))"
   ]
  },
  {
   "cell_type": "code",
   "execution_count": 83,
   "metadata": {},
   "outputs": [
    {
     "data": {
      "text/plain": [
       "'10000000000000000000000000000000'"
      ]
     },
     "execution_count": 83,
     "metadata": {},
     "output_type": "execute_result"
    }
   ],
   "source": [
    "'{0:032b}'.format(2147483648)"
   ]
  },
  {
   "cell_type": "code",
   "execution_count": 84,
   "metadata": {},
   "outputs": [
    {
     "data": {
      "text/plain": [
       "'-0b10000000000000000000000000000000'"
      ]
     },
     "execution_count": 84,
     "metadata": {},
     "output_type": "execute_result"
    }
   ],
   "source": [
    "bin(-2147483648)"
   ]
  },
  {
   "cell_type": "code",
   "execution_count": 85,
   "metadata": {},
   "outputs": [
    {
     "name": "stdout",
     "output_type": "stream",
     "text": [
      "1\n"
     ]
    }
   ],
   "source": [
    "n_input = 2147483648\n",
    "print(my_sol.reverseBits(n_input))"
   ]
  },
  {
   "cell_type": "code",
   "execution_count": 86,
   "metadata": {},
   "outputs": [
    {
     "name": "stdout",
     "output_type": "stream",
     "text": [
      "4294967295\n"
     ]
    }
   ],
   "source": [
    "n_input = 4294967295\n",
    "print(my_sol.reverseBits(n_input))"
   ]
  },
  {
   "cell_type": "markdown",
   "metadata": {},
   "source": [
    "# 100. Same Tree"
   ]
  },
  {
   "cell_type": "code",
   "execution_count": 1,
   "metadata": {},
   "outputs": [],
   "source": [
    "# Definition for a binary tree node.\n",
    "class TreeNode:\n",
    "     def __init__(self, x):\n",
    "            self.val = x\n",
    "            self.left = None\n",
    "            self.right = None"
   ]
  },
  {
   "cell_type": "markdown",
   "metadata": {},
   "source": [
    "This is a solution proposed by someone on leetCode:"
   ]
  },
  {
   "cell_type": "code",
   "execution_count": 12,
   "metadata": {},
   "outputs": [],
   "source": [
    "class Solution():\n",
    "    def isSameTree(self, p, q):\n",
    "        stack = []\n",
    "        stack.append((p,q))\n",
    "        while stack:\n",
    "            p, q = stack.pop()\n",
    "            if not p and not q:\n",
    "                continue\n",
    "\n",
    "            if p and q:   \n",
    "                if p.val != q.val:\n",
    "                    return False\n",
    "                else:\n",
    "                    stack.append((p.left, q.left))\n",
    "                    stack.append((p.right, q.right))\n",
    "            else:\n",
    "                return False\n",
    "        return True"
   ]
  },
  {
   "cell_type": "code",
   "execution_count": 13,
   "metadata": {},
   "outputs": [],
   "source": [
    "my_tree1 = TreeNode(1)\n",
    "my_tree2 = TreeNode(1)\n",
    "left1 = None\n",
    "left2 = None\n",
    "right1 = TreeNode(2)\n",
    "right2 = TreeNode(3)\n",
    "my_tree1.left = left1\n",
    "my_tree1.right = right1\n",
    "my_tree2.left = left2\n",
    "my_tree2.left = right2"
   ]
  },
  {
   "cell_type": "code",
   "execution_count": 14,
   "metadata": {},
   "outputs": [
    {
     "name": "stdout",
     "output_type": "stream",
     "text": [
      "No\n"
     ]
    }
   ],
   "source": [
    "if my_tree1.left and my_tree2.left:\n",
    "    print('Yes')\n",
    "else:\n",
    "    print('No')"
   ]
  },
  {
   "cell_type": "code",
   "execution_count": 15,
   "metadata": {},
   "outputs": [
    {
     "name": "stdout",
     "output_type": "stream",
     "text": [
      "while iteration =  0\n",
      "while iteration =  1\n"
     ]
    },
    {
     "data": {
      "text/plain": [
       "False"
      ]
     },
     "execution_count": 15,
     "metadata": {},
     "output_type": "execute_result"
    }
   ],
   "source": [
    "my_sol = Solution()\n",
    "my_sol.isSameTree(my_tree1, my_tree2)"
   ]
  },
  {
   "cell_type": "markdown",
   "metadata": {},
   "source": [
    "## 38. Count and Say"
   ]
  },
  {
   "cell_type": "code",
   "execution_count": 20,
   "metadata": {},
   "outputs": [],
   "source": [
    "class Solution:\n",
    "    def countAndSay(self, n):\n",
    "        \"\"\"\n",
    "        :type n: int\n",
    "        :rtype: str\n",
    "        \"\"\"\n",
    "        def make_next(s):\n",
    "            if len(s) == 0:\n",
    "                return ''\n",
    "            nex = ''\n",
    "            cur_c = s[0]\n",
    "            cur_l = 1\n",
    "            if len(s) == 1:\n",
    "                return '1' + s\n",
    "            for i in range(1, len(s)):\n",
    "                if s[i]!= cur_c:\n",
    "                    nex += str(cur_l) + cur_c\n",
    "                    cur_c = s[i]\n",
    "                    cur_l = 1\n",
    "                else:\n",
    "                    cur_l += 1\n",
    "            nex += str(cur_l) + cur_c\n",
    "            return nex\n",
    "        \n",
    "        if n == 1:\n",
    "            return '1'\n",
    "        nex = '1'\n",
    "        for i in range(n-1):\n",
    "            nex = make_next(nex)\n",
    "        return nex"
   ]
  },
  {
   "cell_type": "code",
   "execution_count": 21,
   "metadata": {},
   "outputs": [],
   "source": [
    "my_sol = Solution()"
   ]
  },
  {
   "cell_type": "code",
   "execution_count": 23,
   "metadata": {},
   "outputs": [
    {
     "name": "stdout",
     "output_type": "stream",
     "text": [
      "1\n",
      "11\n",
      "21\n",
      "1211\n",
      "111221\n",
      "312211\n",
      "13112221\n",
      "1113213211\n",
      "31131211131221\n"
     ]
    }
   ],
   "source": [
    "for i in range(1, 10):\n",
    "    print(my_sol.countAndSay(i))"
   ]
  },
  {
   "cell_type": "code",
   "execution_count": 19,
   "metadata": {},
   "outputs": [
    {
     "data": {
      "text/plain": [
       "str"
      ]
     },
     "execution_count": 19,
     "metadata": {},
     "output_type": "execute_result"
    }
   ],
   "source": [
    "type(my_sol.countAndSay(3))"
   ]
  },
  {
   "cell_type": "markdown",
   "metadata": {},
   "source": [
    "## 563. Binary Tree Tilt"
   ]
  },
  {
   "cell_type": "code",
   "execution_count": 1,
   "metadata": {},
   "outputs": [],
   "source": [
    "# Definition for a binary tree node.\n",
    "class TreeNode:\n",
    "    def __init__(self, x):\n",
    "        self.val = x\n",
    "        self.left = None\n",
    "        self.right = None"
   ]
  },
  {
   "cell_type": "code",
   "execution_count": 2,
   "metadata": {},
   "outputs": [],
   "source": [
    "# Definition for a binary tree node.\n",
    "# class TreeNode:\n",
    "#     def __init__(self, x):\n",
    "#         self.val = x\n",
    "#         self.left = None\n",
    "#         self.right = None\n",
    "\n",
    "class Solution:\n",
    "    def findTilt(self, root):\n",
    "        \"\"\"\n",
    "        :type root: TreeNode\n",
    "        :rtype: int\n",
    "        \"\"\"\n",
    "        def dfs(node):\n",
    "            if not node:\n",
    "                return (0, 0)\n",
    "            else:\n",
    "                sum_node_l, sum_tilt_l = dfs(node.left)\n",
    "                sum_node_r, sum_tilt_r = dfs(node.right)\n",
    "                sum_node = node.val + sum_node_l + sum_node_r\n",
    "                sum_tilt = sum_tilt_l + sum_tilt_r + max(sum_node_l-sum_node_r, sum_node_r-sum_node_l)\n",
    "                return((sum_node, sum_tilt))\n",
    "        return(dfs(root)[1])"
   ]
  },
  {
   "cell_type": "code",
   "execution_count": 7,
   "metadata": {},
   "outputs": [],
   "source": [
    "my_tree = TreeNode(4)\n",
    "left = TreeNode(2)\n",
    "right = TreeNode(9)\n",
    "leftleft = TreeNode(3)\n",
    "leftright = TreeNode(5)\n",
    "rightright = TreeNode(7)\n",
    "left.left = leftleft\n",
    "left.right = leftright\n",
    "right.right = rightright\n",
    "my_tree.left = left\n",
    "my_tree.right= right"
   ]
  },
  {
   "cell_type": "code",
   "execution_count": 4,
   "metadata": {},
   "outputs": [],
   "source": [
    "my_sol = Solution()"
   ]
  },
  {
   "cell_type": "code",
   "execution_count": 8,
   "metadata": {},
   "outputs": [
    {
     "data": {
      "text/plain": [
       "15"
      ]
     },
     "execution_count": 8,
     "metadata": {},
     "output_type": "execute_result"
    }
   ],
   "source": [
    "my_sol.findTilt(my_tree)"
   ]
  },
  {
   "cell_type": "code",
   "execution_count": 9,
   "metadata": {},
   "outputs": [
    {
     "name": "stdout",
     "output_type": "stream",
     "text": [
      "0\n"
     ]
    }
   ],
   "source": []
  }
 ],
 "metadata": {
  "kernelspec": {
   "display_name": "Python 3",
   "language": "python",
   "name": "python3"
  },
  "language_info": {
   "codemirror_mode": {
    "name": "ipython",
    "version": 3
   },
   "file_extension": ".py",
   "mimetype": "text/x-python",
   "name": "python",
   "nbconvert_exporter": "python",
   "pygments_lexer": "ipython3",
   "version": "3.5.5"
  }
 },
 "nbformat": 4,
 "nbformat_minor": 2
}
