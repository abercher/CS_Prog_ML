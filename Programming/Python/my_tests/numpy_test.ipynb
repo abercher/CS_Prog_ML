{
 "cells": [
  {
   "cell_type": "markdown",
   "metadata": {},
   "source": [
    "# Numpy array manipulations"
   ]
  },
  {
   "cell_type": "code",
   "execution_count": 1,
   "metadata": {},
   "outputs": [],
   "source": [
    "import numpy as np"
   ]
  },
  {
   "cell_type": "markdown",
   "metadata": {},
   "source": [
    "## Creating numpy array from a list"
   ]
  },
  {
   "cell_type": "code",
   "execution_count": 2,
   "metadata": {},
   "outputs": [
    {
     "name": "stdout",
     "output_type": "stream",
     "text": [
      "[[1 2]\n",
      " [3 4]]\n",
      "<class 'numpy.ndarray'>\n",
      "int64\n"
     ]
    }
   ],
   "source": [
    "A = np.array([[1, 2], [3, 4]])\n",
    "print(A)\n",
    "print(type(A))\n",
    "print(A.dtype)"
   ]
  },
  {
   "cell_type": "markdown",
   "metadata": {},
   "source": [
    "## Accessing entries (basic)"
   ]
  },
  {
   "cell_type": "code",
   "execution_count": 70,
   "metadata": {},
   "outputs": [
    {
     "name": "stdout",
     "output_type": "stream",
     "text": [
      "[[1 2]\n",
      " [3 4]]\n",
      "Single entry 2\n",
      "Entire row [3 4]\n",
      "<class 'numpy.ndarray'>\n",
      "<class 'numpy.int64'>\n",
      "<class 'numpy.int64'>\n",
      "Entire column [2 4]\n",
      "Last column [2 4]\n"
     ]
    }
   ],
   "source": [
    "A = np.array([[1, 2], [3, 4]])\n",
    "print(A)\n",
    "print('Single entry {}'.format(A[0, 1]))\n",
    "print('Entire row {}'.format((A[1])))\n",
    "print(type(A[1]))\n",
    "print(type(A[0][0]))\n",
    "print(type(A[0, 0]))\n",
    "print('Entire column {}'.format(A[:, 1]))\n",
    "print('Last column {}'.format(A[:, -1]))"
   ]
  },
  {
   "cell_type": "markdown",
   "metadata": {},
   "source": [
    "## Changing the value of some entries (basic)"
   ]
  },
  {
   "cell_type": "code",
   "execution_count": 33,
   "metadata": {},
   "outputs": [
    {
     "name": "stdout",
     "output_type": "stream",
     "text": [
      "[[1 2]\n",
      " [3 4]]\n",
      "Change single entry\n",
      "[[1 7]\n",
      " [3 4]]\n",
      "Change entire row\n",
      "[[ 1  7]\n",
      " [10 11]]\n",
      "Change entire column\n",
      "[[-3  7]\n",
      " [-4 11]]\n"
     ]
    }
   ],
   "source": [
    "A = np.array([[1, 2], [3, 4]])\n",
    "print(A)\n",
    "print('Change single entry')\n",
    "A[0, 1] = 7\n",
    "print(A)\n",
    "print('Change entire row')\n",
    "A[1] = [10, 11]\n",
    "print(A)\n",
    "print('Change entire column')\n",
    "A[:, 0] = [-3, -4]\n",
    "print(A)"
   ]
  },
  {
   "cell_type": "markdown",
   "metadata": {},
   "source": [
    "## Copying arrays"
   ]
  },
  {
   "cell_type": "markdown",
   "metadata": {},
   "source": [
    "The following line shows that this doesn't make a real copy of the array A, but assign a second \"name\" to the array stored in the memory having so far only the name A. So changing B changes A."
   ]
  },
  {
   "cell_type": "code",
   "execution_count": 47,
   "metadata": {},
   "outputs": [
    {
     "name": "stdout",
     "output_type": "stream",
     "text": [
      "id of A = 139929565989344\n",
      "id of B = 139929565989344\n",
      "[[666   2]\n",
      " [  3   4]]\n",
      "[[666   2]\n",
      " [  3   4]]\n"
     ]
    }
   ],
   "source": [
    "A = np.array([[1, 2], [3, 4]])\n",
    "print('id of A = {}'.format(id(A)))\n",
    "B = A\n",
    "print('id of B = {}'.format(id(B)))\n",
    "\n",
    "B[0, 0] = 666\n",
    "print(B)\n",
    "print(A)"
   ]
  },
  {
   "cell_type": "markdown",
   "metadata": {},
   "source": [
    "In order to make a real copy, one has to use:"
   ]
  },
  {
   "cell_type": "code",
   "execution_count": 48,
   "metadata": {},
   "outputs": [
    {
     "name": "stdout",
     "output_type": "stream",
     "text": [
      "id of A = 139929565990064\n",
      "id of B = 139929565990704\n",
      "[[666   2]\n",
      " [  3   4]]\n",
      "[[1 2]\n",
      " [3 4]]\n"
     ]
    }
   ],
   "source": [
    "A = np.array([[1, 2], [3, 4]])\n",
    "print('id of A = {}'.format(id(A)))\n",
    "B = A.copy()\n",
    "print('id of B = {}'.format(id(B)))\n",
    "B[0, 0] = 666\n",
    "print(B)\n",
    "print(A)"
   ]
  },
  {
   "cell_type": "markdown",
   "metadata": {},
   "source": [
    "## Type of the entries (print it and change it)"
   ]
  },
  {
   "cell_type": "code",
   "execution_count": 105,
   "metadata": {},
   "outputs": [
    {
     "name": "stdout",
     "output_type": "stream",
     "text": [
      "<class 'numpy.ndarray'>\n",
      "int64\n"
     ]
    }
   ],
   "source": [
    "A = np.arange(6).reshape(2, 3)\n",
    "print(type(A))\n",
    "print(A.dtype)"
   ]
  },
  {
   "cell_type": "markdown",
   "metadata": {},
   "source": [
    "To copy an array, cast to a specified type:"
   ]
  },
  {
   "cell_type": "code",
   "execution_count": 107,
   "metadata": {},
   "outputs": [
    {
     "name": "stdout",
     "output_type": "stream",
     "text": [
      "float64\n",
      "True\n",
      "[[0 1 2]\n",
      " [3 4 5]]\n",
      "[[0 1 2]\n",
      " [3 4 5]]\n",
      "[[0 1 2]\n",
      " [3 4 5]]\n",
      "int32\n"
     ]
    }
   ],
   "source": [
    "B = A.astype('float64')\n",
    "C = A.astype(np.float64)\n",
    "D = C.astype('int32')\n",
    "print(B.dtype)\n",
    "print(B.dtype==C.dtype)\n",
    "print(A)\n",
    "B[0, 0] = 32\n",
    "print(A)\n",
    "print(D)\n",
    "print(D.dtype)"
   ]
  },
  {
   "cell_type": "markdown",
   "metadata": {},
   "source": [
    "I don't really understand how nump.ndarray.view works. It seems to change the size of the array, or the values of the enries."
   ]
  },
  {
   "cell_type": "code",
   "execution_count": 59,
   "metadata": {},
   "outputs": [
    {
     "name": "stdout",
     "output_type": "stream",
     "text": [
      "[[0. 1. 2.]\n",
      " [3. 4. 5.]]\n",
      "139929565997696\n",
      "float32\n",
      "[[         0 1065353216 1073741824]\n",
      " [1077936128 1082130432 1084227584]]\n",
      "int32\n",
      "139929565996496\n",
      "float32\n",
      "[[0. 1. 2.]\n",
      " [3. 4. 5.]]\n",
      "[[0 1 2]\n",
      " [3 4 5]]\n",
      "int32\n",
      "139929565996496\n",
      "float32\n",
      "[[0.e+00 1.e-45 3.e-45]\n",
      " [4.e-45 6.e-45 7.e-45]]\n"
     ]
    }
   ],
   "source": [
    "A = np.arange(6, dtype='float32').reshape(2, 3)\n",
    "print(A)\n",
    "print(id(A))\n",
    "print(A.dtype)\n",
    "B = A.view('int32')\n",
    "print(B)\n",
    "print(B.dtype)\n",
    "print(id(B))\n",
    "print(A.dtype)\n",
    "print(A)\n",
    "B[:] = A\n",
    "print(B)\n",
    "print(B.dtype)\n",
    "print(id(B))\n",
    "print(A.dtype)\n",
    "print(A)"
   ]
  },
  {
   "cell_type": "markdown",
   "metadata": {},
   "source": [
    "## Shape and dimensions"
   ]
  },
  {
   "cell_type": "code",
   "execution_count": 82,
   "metadata": {},
   "outputs": [
    {
     "name": "stdout",
     "output_type": "stream",
     "text": [
      "(2, 3)\n",
      "2\n",
      "[[0 1 2]\n",
      " [3 4 5]]\n",
      "[[0 1 2]\n",
      " [3 4 5]]\n",
      "[[0 1]\n",
      " [2 3]\n",
      " [4 5]]\n"
     ]
    }
   ],
   "source": [
    "A = np.arange(6).reshape(2, 3)\n",
    "print(A.shape)\n",
    "print(A.ndim)\n",
    "print(A)\n",
    "A.reshape(3, 2)\n",
    "print(A)\n",
    "A.shape = (3, 2)\n",
    "print(A)"
   ]
  },
  {
   "cell_type": "code",
   "execution_count": 80,
   "metadata": {},
   "outputs": [
    {
     "name": "stdout",
     "output_type": "stream",
     "text": [
      "[[[1 2]\n",
      "  [3 4]]\n",
      "\n",
      " [[5 6]\n",
      "  [7 8]]]\n",
      "[[1 2]\n",
      " [3 4]]\n",
      "[3 4]\n",
      "3\n",
      "(2, 2, 2)\n"
     ]
    }
   ],
   "source": [
    "b = np.array([[(1,2), (3,4)], [(5,6), (7,8)]])\n",
    "print(b)\n",
    "print(b[0])\n",
    "print(b[0][1])\n",
    "print(b[0][1][0])\n",
    "print(b.shape)"
   ]
  },
  {
   "cell_type": "markdown",
   "metadata": {
    "collapsed": true
   },
   "source": [
    "## Concatenating arrays"
   ]
  },
  {
   "cell_type": "code",
   "execution_count": 72,
   "metadata": {},
   "outputs": [
    {
     "name": "stdout",
     "output_type": "stream",
     "text": [
      "[[0 1 2 3 1 4]\n",
      " [3 4 5 1 5 9]]\n",
      "[[0 1 2]\n",
      " [3 4 5]\n",
      " [3 1 4]\n",
      " [1 5 9]]\n"
     ]
    }
   ],
   "source": [
    "A = np.arange(6, dtype='int32').reshape(2, 3)\n",
    "B = np.array([[3, 1, 4], [1, 5 ,9]])\n",
    "C = np.concatenate((A, B), axis=1)\n",
    "D = np.concatenate((A, B), axis=0)\n",
    "print(C)\n",
    "print(D)"
   ]
  },
  {
   "cell_type": "markdown",
   "metadata": {},
   "source": [
    "There is also another way using np.r_ but it more complicated. Cf https://docs.scipy.org/doc/numpy/reference/generated/numpy.r_.html"
   ]
  },
  {
   "cell_type": "markdown",
   "metadata": {
    "collapsed": true
   },
   "source": [
    "## Various transforms"
   ]
  },
  {
   "cell_type": "markdown",
   "metadata": {},
   "source": [
    "Transpose"
   ]
  },
  {
   "cell_type": "code",
   "execution_count": 73,
   "metadata": {},
   "outputs": [
    {
     "name": "stdout",
     "output_type": "stream",
     "text": [
      "[[0 1 2]\n",
      " [3 4 5]]\n",
      "[[0 3]\n",
      " [1 4]\n",
      " [2 5]]\n"
     ]
    }
   ],
   "source": [
    "A = np.arange(6, dtype='int32').reshape(2, 3)\n",
    "print(A)\n",
    "print(A.T)"
   ]
  },
  {
   "cell_type": "markdown",
   "metadata": {
    "collapsed": true
   },
   "source": [
    "## Creating random arrays"
   ]
  },
  {
   "cell_type": "code",
   "execution_count": 75,
   "metadata": {},
   "outputs": [],
   "source": [
    "from numpy import random"
   ]
  },
  {
   "cell_type": "code",
   "execution_count": 77,
   "metadata": {},
   "outputs": [
    {
     "name": "stdout",
     "output_type": "stream",
     "text": [
      "[3 8 2 7 1 0 9 6 4 5]\n"
     ]
    }
   ],
   "source": [
    "A = np.random.permutation(10)\n",
    "print(A)"
   ]
  },
  {
   "cell_type": "code",
   "execution_count": 78,
   "metadata": {},
   "outputs": [],
   "source": [
    "y = np.array([1,2,3.1])\n",
    "order = np.random.permutation(3)\n",
    "y = y[order]"
   ]
  },
  {
   "cell_type": "markdown",
   "metadata": {},
   "source": [
    "## Finding indices"
   ]
  },
  {
   "cell_type": "code",
   "execution_count": 83,
   "metadata": {},
   "outputs": [],
   "source": [
    "A = np.arange(6).reshape(2, 3)"
   ]
  },
  {
   "cell_type": "code",
   "execution_count": 89,
   "metadata": {},
   "outputs": [
    {
     "name": "stdout",
     "output_type": "stream",
     "text": [
      "[[3 1 2]\n",
      " [3 4 5]]\n",
      "(array([0, 1]), array([0, 0]))\n",
      "<class 'tuple'>\n",
      "<class 'numpy.ndarray'>\n",
      "[3 3]\n",
      "<class 'numpy.ndarray'>\n"
     ]
    }
   ],
   "source": [
    "A[0, 0] = 3\n",
    "print(A)\n",
    "ind = np.where(A==3)\n",
    "print(ind)\n",
    "print(type(ind))\n",
    "print(type(ind[0]))\n",
    "print(A[ind])\n",
    "print(type(A[ind]))"
   ]
  },
  {
   "cell_type": "markdown",
   "metadata": {},
   "source": [
    "## Removing slices"
   ]
  },
  {
   "cell_type": "code",
   "execution_count": 95,
   "metadata": {},
   "outputs": [
    {
     "name": "stdout",
     "output_type": "stream",
     "text": [
      "[[[ 0  1  2]\n",
      "  [ 3  4  5]\n",
      "  [ 6  7  8]\n",
      "  [ 9 10 11]]\n",
      "\n",
      " [[12 13 14]\n",
      "  [15 16 17]\n",
      "  [18 19 20]\n",
      "  [21 22 23]]]\n",
      "[[[ 0  1  2]\n",
      "  [ 3  4  5]\n",
      "  [ 6  7  8]\n",
      "  [ 9 10 11]]\n",
      "\n",
      " [[12 13 14]\n",
      "  [15 16 17]\n",
      "  [18 19 20]\n",
      "  [21 22 23]]]\n",
      "[[[ 3  4  5]\n",
      "  [ 9 10 11]]\n",
      "\n",
      " [[15 16 17]\n",
      "  [21 22 23]]]\n"
     ]
    },
    {
     "name": "stderr",
     "output_type": "stream",
     "text": [
      "/home/aritz/anaconda3/envs/tensorflow/lib/python3.5/site-packages/ipykernel_launcher.py:3: FutureWarning: in the future negative indices will not be ignored by `numpy.delete`.\n",
      "  This is separate from the ipykernel package so we can avoid doing imports until\n"
     ]
    }
   ],
   "source": [
    "A = np.arange(24).reshape(2, 4, 3)\n",
    "print(A)\n",
    "B = np.delete(A, obj=[-1,], axis=0)\n",
    "print(B)\n",
    "C = np.delete(A, obj=[0, 2], axis=1)\n",
    "print(C)"
   ]
  },
  {
   "cell_type": "markdown",
   "metadata": {},
   "source": [
    "## Save and restore numpy arrays"
   ]
  },
  {
   "cell_type": "code",
   "execution_count": 99,
   "metadata": {},
   "outputs": [
    {
     "name": "stdout",
     "output_type": "stream",
     "text": [
      "139929565217456\n"
     ]
    }
   ],
   "source": [
    "A = np.arange(6).reshape(2, 3)\n",
    "print(id(A))\n",
    "np.save(file='A', arr=A)"
   ]
  },
  {
   "cell_type": "code",
   "execution_count": 100,
   "metadata": {},
   "outputs": [
    {
     "name": "stdout",
     "output_type": "stream",
     "text": [
      "[[0 1 2]\n",
      " [3 4 5]]\n",
      "139929565227168\n"
     ]
    }
   ],
   "source": [
    "B = np.load('A.npy')\n",
    "print(B)\n",
    "print(id(B))"
   ]
  },
  {
   "cell_type": "markdown",
   "metadata": {},
   "source": [
    "## Finding unique values"
   ]
  },
  {
   "cell_type": "code",
   "execution_count": 101,
   "metadata": {},
   "outputs": [],
   "source": [
    "A = np.array([['a', 'b'], ['a', 'c']])"
   ]
  },
  {
   "cell_type": "code",
   "execution_count": 103,
   "metadata": {},
   "outputs": [
    {
     "data": {
      "text/plain": [
       "array(['a', 'b', 'c'], dtype='<U1')"
      ]
     },
     "execution_count": 103,
     "metadata": {},
     "output_type": "execute_result"
    }
   ],
   "source": [
    "np.unique(A)"
   ]
  },
  {
   "cell_type": "markdown",
   "metadata": {},
   "source": [
    "## Shuffling rows of an array"
   ]
  },
  {
   "cell_type": "markdown",
   "metadata": {},
   "source": [
    "If one wants to shuffle a single array."
   ]
  },
  {
   "cell_type": "code",
   "execution_count": 5,
   "metadata": {},
   "outputs": [],
   "source": [
    "A = np.arange(30).reshape(10, 3)"
   ]
  },
  {
   "cell_type": "code",
   "execution_count": 6,
   "metadata": {},
   "outputs": [
    {
     "name": "stdout",
     "output_type": "stream",
     "text": [
      "[[ 0  1  2]\n",
      " [ 3  4  5]\n",
      " [ 6  7  8]\n",
      " [ 9 10 11]\n",
      " [12 13 14]\n",
      " [15 16 17]\n",
      " [18 19 20]\n",
      " [21 22 23]\n",
      " [24 25 26]\n",
      " [27 28 29]]\n",
      "[[ 9 10 11]\n",
      " [21 22 23]\n",
      " [27 28 29]\n",
      " [ 0  1  2]\n",
      " [ 6  7  8]\n",
      " [12 13 14]\n",
      " [15 16 17]\n",
      " [18 19 20]\n",
      " [ 3  4  5]\n",
      " [24 25 26]]\n"
     ]
    }
   ],
   "source": [
    "print(A)\n",
    "np.random.shuffle(A)\n",
    "print(A)"
   ]
  },
  {
   "cell_type": "markdown",
   "metadata": {},
   "source": [
    "If one wants to shuffle two arrays (typically the features and the responses) with the same permutation:"
   ]
  },
  {
   "cell_type": "code",
   "execution_count": 117,
   "metadata": {},
   "outputs": [],
   "source": [
    "X = np.arange(21).reshape(7, -1)\n",
    "y = 10*np.arange(7)"
   ]
  },
  {
   "cell_type": "code",
   "execution_count": 119,
   "metadata": {},
   "outputs": [
    {
     "name": "stdout",
     "output_type": "stream",
     "text": [
      "[[ 0  1  2]\n",
      " [ 3  4  5]\n",
      " [ 6  7  8]\n",
      " [ 9 10 11]\n",
      " [12 13 14]\n",
      " [15 16 17]\n",
      " [18 19 20]]\n",
      "[ 0 10 20 30 40 50 60]\n"
     ]
    }
   ],
   "source": [
    "print(X)\n",
    "print(y)"
   ]
  },
  {
   "cell_type": "code",
   "execution_count": 121,
   "metadata": {},
   "outputs": [],
   "source": [
    "perm = np.random.permutation(len(y))\n",
    "X_shuff = X[perm]\n",
    "y_shuff = y[perm]"
   ]
  },
  {
   "cell_type": "code",
   "execution_count": 122,
   "metadata": {},
   "outputs": [
    {
     "name": "stdout",
     "output_type": "stream",
     "text": [
      "[[18 19 20]\n",
      " [ 0  1  2]\n",
      " [ 3  4  5]\n",
      " [ 6  7  8]\n",
      " [15 16 17]\n",
      " [ 9 10 11]\n",
      " [12 13 14]]\n",
      "[60  0 10 20 50 30 40]\n"
     ]
    }
   ],
   "source": [
    "print(X_shuff)\n",
    "print(y_shuff)"
   ]
  },
  {
   "cell_type": "code",
   "execution_count": null,
   "metadata": {},
   "outputs": [],
   "source": []
  }
 ],
 "metadata": {
  "kernelspec": {
   "display_name": "Python 3",
   "language": "python",
   "name": "python3"
  },
  "language_info": {
   "codemirror_mode": {
    "name": "ipython",
    "version": 3
   },
   "file_extension": ".py",
   "mimetype": "text/x-python",
   "name": "python",
   "nbconvert_exporter": "python",
   "pygments_lexer": "ipython3",
   "version": "3.5.5"
  }
 },
 "nbformat": 4,
 "nbformat_minor": 2
}
