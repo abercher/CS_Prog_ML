{
 "cells": [
  {
   "cell_type": "code",
   "execution_count": null,
   "metadata": {
    "collapsed": true
   },
   "outputs": [],
   "source": [
    "# following code taken from https://stackoverflow.com/questions/39982763/python-try-except-yield-combination#39982860"
   ]
  },
  {
   "cell_type": "code",
   "execution_count": null,
   "metadata": {
    "collapsed": true
   },
   "outputs": [],
   "source": [
    "# the autor wants to find at which iteration the error appeared"
   ]
  },
  {
   "cell_type": "code",
   "execution_count": null,
   "metadata": {
    "collapsed": true
   },
   "outputs": [],
   "source": [
    "def f(n):\n",
    "    for i in range(n):\n",
    "        if i == 3:\n",
    "            raise ValueError('hit 3')\n",
    "        yield i\n",
    "\n",
    "if __name__ == '__main__':\n",
    "    a = enumerate(f(10))\n",
    "    try:\n",
    "        for i, x in a:\n",
    "            print(i, x)\n",
    "    except ValueError:\n",
    "        print('you have a problem with index x')"
   ]
  },
  {
   "cell_type": "code",
   "execution_count": null,
   "metadata": {
    "collapsed": true
   },
   "outputs": [],
   "source": [
    "# and the solution"
   ]
  },
  {
   "cell_type": "code",
   "execution_count": 2,
   "metadata": {},
   "outputs": [
    {
     "name": "stdout",
     "output_type": "stream",
     "text": [
      "0\n",
      "1\n",
      "2\n",
      "Error with key: 3\n",
      "4\n",
      "5\n",
      "6\n",
      "7\n",
      "8\n",
      "9\n"
     ]
    }
   ],
   "source": [
    "def f(n):\n",
    "    for i in range(n):\n",
    "        try:\n",
    "            if i == 3:\n",
    "                raise ValueError('hit 3')\n",
    "            yield i\n",
    "        except ValueError:\n",
    "            print(\"Error with key: {}\".format(i))\n",
    "            \n",
    "for i in f(10):\n",
    "    print(i)\n",
    "    \n"
   ]
  },
  {
   "cell_type": "code",
   "execution_count": null,
   "metadata": {
    "collapsed": true
   },
   "outputs": [],
   "source": []
  }
 ],
 "metadata": {
  "kernelspec": {
   "display_name": "Python 3",
   "language": "python",
   "name": "python3"
  },
  "language_info": {
   "codemirror_mode": {
    "name": "ipython",
    "version": 3
   },
   "file_extension": ".py",
   "mimetype": "text/x-python",
   "name": "python",
   "nbconvert_exporter": "python",
   "pygments_lexer": "ipython3",
   "version": "3.5.4"
  }
 },
 "nbformat": 4,
 "nbformat_minor": 2
}
