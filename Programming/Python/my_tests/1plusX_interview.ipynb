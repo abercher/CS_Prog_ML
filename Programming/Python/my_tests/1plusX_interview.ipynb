{
 "cells": [
  {
   "cell_type": "markdown",
   "metadata": {},
   "source": [
    "# 1plusX interview"
   ]
  },
  {
   "cell_type": "markdown",
   "metadata": {},
   "source": [
    "I will paste here what was done during the coding interview with 1plusx"
   ]
  },
  {
   "cell_type": "code",
   "execution_count": 5,
   "metadata": {},
   "outputs": [
    {
     "name": "stdout",
     "output_type": "stream",
     "text": [
      "{2}\n"
     ]
    }
   ],
   "source": [
    "print(\"hello!\")\n",
    "print('Wolrd')\n",
    "\n",
    "import pandas\n",
    "\n",
    "df = pandas.data_frame()\n",
    "df.from_csv('data.csv')\n",
    "\n",
    "###\n",
    "with open('data.csv', 'r') as f:\n",
    "    f.readlines()...\n",
    "  \n",
    "domain = [ 'a.com', 'a.com', 'b.com']\n",
    "userid = ['...']\n",
    "### below here\n",
    "\n",
    "user_dom = {dom: set() for dom in my_set}\n",
    "for i in range(len(domain)):\n",
    "  if userid[i] not in user_dom[domain[i]]:\n",
    "    user_dom[domain[i]].add(userid[i])\n",
    "\n",
    "nb_user_dom = {dom: len(user_dom[dom]) for dom in my_set}\n",
    "\n",
    "for dom, user in zip(domain, users):\n",
    "  user_dom[dom].add(user)\n",
    "  \n",
    "\n",
    "my_set = set(domain)\n",
    "n_ev = {dom: 0 for dom in my_set}\n",
    "\n",
    "\n",
    "for i in range(len(domain)):\n",
    "  n_ev[domain[i]] += 1\n",
    "  \n",
    "for dom in domain:\n",
    "  n_ev[dom] += 1"
   ]
  },
  {
   "cell_type": "markdown",
   "metadata": {},
   "source": [
    "## Later additions"
   ]
  },
  {
   "cell_type": "markdown",
   "metadata": {
    "collapsed": true
   },
   "source": [
    "Here I will try to do what I should have done in the first place:"
   ]
  },
  {
   "cell_type": "code",
   "execution_count": 1,
   "metadata": {},
   "outputs": [],
   "source": [
    "FILE_NAME = '/home/aritz/Documents/CS_Programming_Machine_Learning/Programming/Python/Useful_scripts/Toy_data/toy_data.csv'"
   ]
  },
  {
   "cell_type": "code",
   "execution_count": 6,
   "metadata": {},
   "outputs": [],
   "source": [
    "import csv\n",
    "with open(FILE_NAME) as f:\n",
    "    reader = csv.reader(f)\n",
    "    for i, line in enumerate(reader):\n",
    "        if i == 0:\n",
    "            data = {val:[] for val in line}\n",
    "            col_names = line\n",
    "        else:\n",
    "            for j, val in enumerate(line):\n",
    "                data[col_names[j]].append(val)"
   ]
  },
  {
   "cell_type": "code",
   "execution_count": 25,
   "metadata": {},
   "outputs": [
    {
     "data": {
      "text/plain": [
       "\"{'domain': ['a.com', 'b.com', 'a.com', 'a.com', 'b.com'], 'user_id': ['32', '21', '25', '21', '21']}\""
      ]
     },
     "execution_count": 25,
     "metadata": {},
     "output_type": "execute_result"
    }
   ],
   "source": [
    "repr(data)"
   ]
  },
  {
   "cell_type": "code",
   "execution_count": 9,
   "metadata": {},
   "outputs": [
    {
     "name": "stdout",
     "output_type": "stream",
     "text": [
      "['domain', 'user_id']\n"
     ]
    }
   ],
   "source": [
    "print(col_names)"
   ]
  },
  {
   "cell_type": "code",
   "execution_count": 21,
   "metadata": {},
   "outputs": [],
   "source": [
    "user_per_dom = {dom: set() for dom in set(data[col_names[0]])}"
   ]
  },
  {
   "cell_type": "code",
   "execution_count": 22,
   "metadata": {},
   "outputs": [],
   "source": [
    "for dom, usr in zip(data[col_names[0]], data[col_names[1]]):\n",
    "    user_per_dom[dom].add(usr)"
   ]
  },
  {
   "cell_type": "code",
   "execution_count": 24,
   "metadata": {},
   "outputs": [
    {
     "data": {
      "text/plain": [
       "{'a.com': {'21', '25', '32'}, 'b.com': {'21'}}"
      ]
     },
     "execution_count": 24,
     "metadata": {},
     "output_type": "execute_result"
    }
   ],
   "source": [
    "user_per_dom"
   ]
  },
  {
   "cell_type": "code",
   "execution_count": 37,
   "metadata": {},
   "outputs": [],
   "source": [
    "len_per_dom = {key: len(value) for key, value in user_per_dom.items()}"
   ]
  },
  {
   "cell_type": "code",
   "execution_count": 38,
   "metadata": {},
   "outputs": [
    {
     "data": {
      "text/plain": [
       "{'a.com': 3, 'b.com': 1}"
      ]
     },
     "execution_count": 38,
     "metadata": {},
     "output_type": "execute_result"
    }
   ],
   "source": [
    "len_per_dom"
   ]
  },
  {
   "cell_type": "code",
   "execution_count": 39,
   "metadata": {},
   "outputs": [],
   "source": [
    "my_set = set()"
   ]
  },
  {
   "cell_type": "code",
   "execution_count": 40,
   "metadata": {},
   "outputs": [],
   "source": [
    "my_set.add(3)"
   ]
  },
  {
   "cell_type": "code",
   "execution_count": 41,
   "metadata": {},
   "outputs": [
    {
     "data": {
      "text/plain": [
       "{3}"
      ]
     },
     "execution_count": 41,
     "metadata": {},
     "output_type": "execute_result"
    }
   ],
   "source": [
    "my_set"
   ]
  },
  {
   "cell_type": "markdown",
   "metadata": {},
   "source": [
    "This page uses ideas which would have been smart to use for the interview:\n",
    "https://medium.com/district-data-labs/simple-csv-data-wrangling-with-python-3496aa5d0a5e"
   ]
  },
  {
   "cell_type": "code",
   "execution_count": null,
   "metadata": {},
   "outputs": [],
   "source": []
  }
 ],
 "metadata": {
  "kernelspec": {
   "display_name": "Python 3",
   "language": "python",
   "name": "python3"
  },
  "language_info": {
   "codemirror_mode": {
    "name": "ipython",
    "version": 3
   },
   "file_extension": ".py",
   "mimetype": "text/x-python",
   "name": "python",
   "nbconvert_exporter": "python",
   "pygments_lexer": "ipython3",
   "version": "3.5.5"
  }
 },
 "nbformat": 4,
 "nbformat_minor": 2
}
