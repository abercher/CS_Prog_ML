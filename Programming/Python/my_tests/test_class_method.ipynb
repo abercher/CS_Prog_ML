{
 "cells": [
  {
   "cell_type": "code",
   "execution_count": null,
   "metadata": {
    "collapsed": true
   },
   "outputs": [],
   "source": [
    "# taken from http://networkstatic.net/python-tutorial-classes-objects-methods-init-and-simple-examples/"
   ]
  },
  {
   "cell_type": "code",
   "execution_count": 13,
   "metadata": {
    "collapsed": true
   },
   "outputs": [],
   "source": [
    "class VMname:\n",
    "    def createVM(self, name):\n",
    "        self.name=name\n",
    "    def stateVM(self):\n",
    "        print('Printing from the 1st Class Example ' + self.name)\n",
    "        print() #Adding Whitespace   "
   ]
  },
  {
   "cell_type": "code",
   "execution_count": 14,
   "metadata": {},
   "outputs": [
    {
     "name": "stdout",
     "output_type": "stream",
     "text": [
      "Printing from the 1st Class Example classEx.foo.org\n",
      "\n"
     ]
    }
   ],
   "source": [
    "#Explicitly initializing the Class\n",
    "example1 = VMname()\n",
    "example1.createVM('classEx.foo.org')\n",
    "example1.stateVM()"
   ]
  },
  {
   "cell_type": "code",
   "execution_count": 15,
   "metadata": {
    "collapsed": true
   },
   "outputs": [],
   "source": [
    "#Example #3 What the heck is this __init__?\n",
    "class VMname1:\n",
    "    def __init__(self, name):\n",
    "        self.name=name\n",
    "    def stateVM1(self):\n",
    "        print('Printing from the 2nd Class Example ' + self.name)\n",
    "        print() #Adding Whitespace"
   ]
  },
  {
   "cell_type": "code",
   "execution_count": 16,
   "metadata": {},
   "outputs": [
    {
     "name": "stdout",
     "output_type": "stream",
     "text": [
      "Printing from the 2nd Class Example constructorEx.foo.org\n",
      "\n"
     ]
    }
   ],
   "source": [
    "#__init__ initializes the Class\n",
    "example2 = VMname1('constructorEx.foo.org')\n",
    "example2.stateVM1()"
   ]
  },
  {
   "cell_type": "code",
   "execution_count": 17,
   "metadata": {
    "collapsed": true
   },
   "outputs": [],
   "source": [
    "#Example #3 Predefined Data\n",
    "class VMname2:\n",
    "    def __init__(self, name='predefinedvarsEx.foo.org'):\n",
    "        self.name=name\n",
    "    def stateVM2(self):\n",
    "        print('Printing from the 3rd Class Example ' + self.name)\n",
    "        print() #Adding Whitespace"
   ]
  },
  {
   "cell_type": "code",
   "execution_count": 18,
   "metadata": {},
   "outputs": [
    {
     "name": "stdout",
     "output_type": "stream",
     "text": [
      "Printing from the 3rd Class Example predefinedvarsEx.foo.org\n",
      "\n"
     ]
    }
   ],
   "source": [
    "#__init__ initializes the Class and a predefined value for name\n",
    "example3 = VMname2()\n",
    "example3.stateVM2()"
   ]
  },
  {
   "cell_type": "code",
   "execution_count": null,
   "metadata": {
    "collapsed": true
   },
   "outputs": [],
   "source": []
  }
 ],
 "metadata": {
  "kernelspec": {
   "display_name": "Python 3",
   "language": "python",
   "name": "python3"
  },
  "language_info": {
   "codemirror_mode": {
    "name": "ipython",
    "version": 3
   },
   "file_extension": ".py",
   "mimetype": "text/x-python",
   "name": "python",
   "nbconvert_exporter": "python",
   "pygments_lexer": "ipython3",
   "version": "3.5.4"
  }
 },
 "nbformat": 4,
 "nbformat_minor": 2
}
