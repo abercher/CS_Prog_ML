{
 "cells": [
  {
   "cell_type": "markdown",
   "metadata": {},
   "source": [
    "In this notebook, I will try to play around with regular expressions, testing what I learned here:\n",
    "https://docs.python.org/3.5/howto/regex.html#regex-howto"
   ]
  },
  {
   "cell_type": "code",
   "execution_count": 1,
   "metadata": {},
   "outputs": [],
   "source": [
    "import re"
   ]
  },
  {
   "cell_type": "code",
   "execution_count": 2,
   "metadata": {},
   "outputs": [
    {
     "name": "stdout",
     "output_type": "stream",
     "text": [
      "None\n"
     ]
    }
   ],
   "source": [
    "p = re.compile('[a-z]+')\n",
    "p.match(\"\")\n",
    "print(p.match(\"\"))"
   ]
  },
  {
   "cell_type": "code",
   "execution_count": 3,
   "metadata": {},
   "outputs": [
    {
     "data": {
      "text/plain": [
       "<_sre.SRE_Match object; span=(0, 5), match='tempo'>"
      ]
     },
     "execution_count": 3,
     "metadata": {},
     "output_type": "execute_result"
    }
   ],
   "source": [
    "m = p.match('tempo')\n",
    "m"
   ]
  },
  {
   "cell_type": "code",
   "execution_count": 5,
   "metadata": {},
   "outputs": [
    {
     "data": {
      "text/plain": [
       "'tempo'"
      ]
     },
     "execution_count": 5,
     "metadata": {},
     "output_type": "execute_result"
    }
   ],
   "source": [
    "m.group()"
   ]
  },
  {
   "cell_type": "code",
   "execution_count": 6,
   "metadata": {},
   "outputs": [
    {
     "data": {
      "text/plain": [
       "(0, 5)"
      ]
     },
     "execution_count": 6,
     "metadata": {},
     "output_type": "execute_result"
    }
   ],
   "source": [
    "m.start(), m.end()"
   ]
  },
  {
   "cell_type": "code",
   "execution_count": 7,
   "metadata": {},
   "outputs": [
    {
     "data": {
      "text/plain": [
       "(0, 5)"
      ]
     },
     "execution_count": 7,
     "metadata": {},
     "output_type": "execute_result"
    }
   ],
   "source": [
    "m.span()"
   ]
  },
  {
   "cell_type": "code",
   "execution_count": 8,
   "metadata": {},
   "outputs": [
    {
     "name": "stdout",
     "output_type": "stream",
     "text": [
      "None\n"
     ]
    }
   ],
   "source": [
    "print(p.match('::: message'))"
   ]
  },
  {
   "cell_type": "code",
   "execution_count": 9,
   "metadata": {},
   "outputs": [
    {
     "name": "stdout",
     "output_type": "stream",
     "text": [
      "<_sre.SRE_Match object; span=(4, 11), match='message'>\n"
     ]
    }
   ],
   "source": [
    "m = p.search('::: message'); print(m)"
   ]
  },
  {
   "cell_type": "code",
   "execution_count": 10,
   "metadata": {},
   "outputs": [
    {
     "data": {
      "text/plain": [
       "'message'"
      ]
     },
     "execution_count": 10,
     "metadata": {},
     "output_type": "execute_result"
    }
   ],
   "source": [
    "m.group()"
   ]
  },
  {
   "cell_type": "code",
   "execution_count": 11,
   "metadata": {},
   "outputs": [
    {
     "data": {
      "text/plain": [
       "(4, 11)"
      ]
     },
     "execution_count": 11,
     "metadata": {},
     "output_type": "execute_result"
    }
   ],
   "source": [
    "m.span()"
   ]
  },
  {
   "cell_type": "code",
   "execution_count": 30,
   "metadata": {},
   "outputs": [
    {
     "name": "stdout",
     "output_type": "stream",
     "text": [
      "the the\n",
      "['the', 'spring']\n"
     ]
    }
   ],
   "source": [
    "p = re.compile(r'(\\b\\w+)\\s+\\1') #any word followed by a space and then repeated\n",
    "print(p.search('Paris in the the spring spring').group())\n",
    "print(p.findall('Paris in the the spring spring'))"
   ]
  },
  {
   "cell_type": "code",
   "execution_count": null,
   "metadata": {},
   "outputs": [],
   "source": []
  },
  {
   "cell_type": "code",
   "execution_count": null,
   "metadata": {},
   "outputs": [],
   "source": []
  },
  {
   "cell_type": "code",
   "execution_count": 13,
   "metadata": {},
   "outputs": [
    {
     "name": "stdout",
     "output_type": "stream",
     "text": [
      "[nltk_data] Downloading package stopwords to /home/aritz/nltk_data...\n",
      "[nltk_data]   Package stopwords is already up-to-date!\n"
     ]
    }
   ],
   "source": [
    "import nltk\n",
    "nltk.download('stopwords')\n",
    "from nltk.corpus import stopwords"
   ]
  },
  {
   "cell_type": "code",
   "execution_count": 16,
   "metadata": {},
   "outputs": [],
   "source": [
    "REPLACE_BY_SPACE_RE = re.compile('[/(){}\\[\\]\\|@,;]')\n",
    "BAD_SYMBOLS_RE = re.compile('[^0-9a-z #+_]') #this RE, means everything except numbers, letters, and #+_\n",
    "STOPWORDS = set(stopwords.words('english'))"
   ]
  },
  {
   "cell_type": "code",
   "execution_count": 17,
   "metadata": {},
   "outputs": [
    {
     "name": "stdout",
     "output_type": "stream",
     "text": [
      "what is the difference between    eval    astlitteral_eval\n"
     ]
    }
   ],
   "source": [
    "mytext = 'What is the difference between  @ eval() & ast.litteral_eval?'\n",
    "mytext = mytext.lower()\n",
    "mytext = re.sub(REPLACE_BY_SPACE_RE, ' ', mytext)\n",
    "mytext = re.sub(BAD_SYMBOLS_RE, '', mytext)\n",
    "print(mytext)"
   ]
  },
  {
   "cell_type": "code",
   "execution_count": 45,
   "metadata": {},
   "outputs": [
    {
     "name": "stdout",
     "output_type": "stream",
     "text": [
      "['over', 're', 'for', 'myself', 'where', 'now', 'both', 'do', \"doesn't\", 'to', 'there', 'again', 'them', \"couldn't\", 'than', \"it's\", 'we', 'their', 'of', 'while', 'my', 'more', 'those', 'between', 'yours', \"you've\", 'too', 'out', \"you're\", 'because', 'when', 'nor', 'an', 'y', \"isn't\", 't', 'as', 'be', 'he', 'any', 'hers', 'very', 'before', 'each', 'have', \"shouldn't\", 'ourselves', 'him', 'during', 'a', 'about', 'up', 'am', 'other', 'or', 'only', 'yourself', 'no', 'few', 'so', 'didn', 'into', 'theirs', 'by', 'me', 'your', 'just', 'but', 'don', \"wasn't\", 'until', 'having', 'does', \"mightn't\", 'herself', 'themselves', 'yourselves', 'off', 'who', 'down', \"don't\", 'o', \"hadn't\", 'had', 'is', 'most', 'they', 'aren', 'couldn', 'are', 'such', \"weren't\", 'under', 'at', 'once', 'will', \"aren't\", 'it', 'been', 'can', 'wouldn', 'mightn', 'above', 'whom', 'doesn', 'after', 'you', \"hasn't\", 'should', 'her', 'himself', 'below', 'were', 'ain', \"you'd\", 'same', 'itself', 'with', 'not', 'its', 'which', 'if', 's', \"she's\", 'his', \"shan't\", 'then', 'and', 'hadn', 'has', 'further', 'she', 'in', 'hasn', 'ours', 'did', 'shan', 'weren', \"mustn't\", 'why', 'haven', 'ma', 'here', \"wouldn't\", 'isn', 'through', 'the', 'from', 'how', 'our', 'was', 'being', 'against', 'doing', 'all', 'that', 'this', \"needn't\", 'own', \"should've\", 'these', 'shouldn', \"that'll\", 'on', 'needn', 've', \"won't\", 'mustn', 'what', 'll', \"didn't\", \"haven't\", \"you'll\", 'm', 'won', 'wasn', 'd', 'i', 'some']\n"
     ]
    }
   ],
   "source": [
    "print(list(STOPWORDS))"
   ]
  },
  {
   "cell_type": "code",
   "execution_count": 52,
   "metadata": {},
   "outputs": [],
   "source": [
    "w = list(STOPWORDS)[0]"
   ]
  },
  {
   "cell_type": "code",
   "execution_count": 53,
   "metadata": {},
   "outputs": [
    {
     "name": "stdout",
     "output_type": "stream",
     "text": [
      "over\n"
     ]
    }
   ],
   "source": [
    "print(w)"
   ]
  },
  {
   "cell_type": "markdown",
   "metadata": {},
   "source": [
    "I don't understand the different behaviour between these two cells."
   ]
  },
  {
   "cell_type": "code",
   "execution_count": 55,
   "metadata": {},
   "outputs": [
    {
     "name": "stdout",
     "output_type": "stream",
     "text": [
      "\\bover\\b\n"
     ]
    }
   ],
   "source": [
    "print('\\\\b'+ w +'\\\\b')"
   ]
  },
  {
   "cell_type": "code",
   "execution_count": 56,
   "metadata": {},
   "outputs": [
    {
     "name": "stdout",
     "output_type": "stream",
     "text": [
      "['\\\\bover\\\\b', '\\\\bre\\\\b', '\\\\bfor\\\\b', '\\\\bmyself\\\\b', '\\\\bwhere\\\\b', '\\\\bnow\\\\b', '\\\\bboth\\\\b', '\\\\bdo\\\\b', \"\\\\bdoesn't\\\\b\", '\\\\bto\\\\b', '\\\\bthere\\\\b', '\\\\bagain\\\\b', '\\\\bthem\\\\b', \"\\\\bcouldn't\\\\b\", '\\\\bthan\\\\b', \"\\\\bit's\\\\b\", '\\\\bwe\\\\b', '\\\\btheir\\\\b', '\\\\bof\\\\b', '\\\\bwhile\\\\b', '\\\\bmy\\\\b', '\\\\bmore\\\\b', '\\\\bthose\\\\b', '\\\\bbetween\\\\b', '\\\\byours\\\\b', \"\\\\byou've\\\\b\", '\\\\btoo\\\\b', '\\\\bout\\\\b', \"\\\\byou're\\\\b\", '\\\\bbecause\\\\b', '\\\\bwhen\\\\b', '\\\\bnor\\\\b', '\\\\ban\\\\b', '\\\\by\\\\b', \"\\\\bisn't\\\\b\", '\\\\bt\\\\b', '\\\\bas\\\\b', '\\\\bbe\\\\b', '\\\\bhe\\\\b', '\\\\bany\\\\b', '\\\\bhers\\\\b', '\\\\bvery\\\\b', '\\\\bbefore\\\\b', '\\\\beach\\\\b', '\\\\bhave\\\\b', \"\\\\bshouldn't\\\\b\", '\\\\bourselves\\\\b', '\\\\bhim\\\\b', '\\\\bduring\\\\b', '\\\\ba\\\\b', '\\\\babout\\\\b', '\\\\bup\\\\b', '\\\\bam\\\\b', '\\\\bother\\\\b', '\\\\bor\\\\b', '\\\\bonly\\\\b', '\\\\byourself\\\\b', '\\\\bno\\\\b', '\\\\bfew\\\\b', '\\\\bso\\\\b', '\\\\bdidn\\\\b', '\\\\binto\\\\b', '\\\\btheirs\\\\b', '\\\\bby\\\\b', '\\\\bme\\\\b', '\\\\byour\\\\b', '\\\\bjust\\\\b', '\\\\bbut\\\\b', '\\\\bdon\\\\b', \"\\\\bwasn't\\\\b\", '\\\\buntil\\\\b', '\\\\bhaving\\\\b', '\\\\bdoes\\\\b', \"\\\\bmightn't\\\\b\", '\\\\bherself\\\\b', '\\\\bthemselves\\\\b', '\\\\byourselves\\\\b', '\\\\boff\\\\b', '\\\\bwho\\\\b', '\\\\bdown\\\\b', \"\\\\bdon't\\\\b\", '\\\\bo\\\\b', \"\\\\bhadn't\\\\b\", '\\\\bhad\\\\b', '\\\\bis\\\\b', '\\\\bmost\\\\b', '\\\\bthey\\\\b', '\\\\baren\\\\b', '\\\\bcouldn\\\\b', '\\\\bare\\\\b', '\\\\bsuch\\\\b', \"\\\\bweren't\\\\b\", '\\\\bunder\\\\b', '\\\\bat\\\\b', '\\\\bonce\\\\b', '\\\\bwill\\\\b', \"\\\\baren't\\\\b\", '\\\\bit\\\\b', '\\\\bbeen\\\\b', '\\\\bcan\\\\b', '\\\\bwouldn\\\\b', '\\\\bmightn\\\\b', '\\\\babove\\\\b', '\\\\bwhom\\\\b', '\\\\bdoesn\\\\b', '\\\\bafter\\\\b', '\\\\byou\\\\b', \"\\\\bhasn't\\\\b\", '\\\\bshould\\\\b', '\\\\bher\\\\b', '\\\\bhimself\\\\b', '\\\\bbelow\\\\b', '\\\\bwere\\\\b', '\\\\bain\\\\b', \"\\\\byou'd\\\\b\", '\\\\bsame\\\\b', '\\\\bitself\\\\b', '\\\\bwith\\\\b', '\\\\bnot\\\\b', '\\\\bits\\\\b', '\\\\bwhich\\\\b', '\\\\bif\\\\b', '\\\\bs\\\\b', \"\\\\bshe's\\\\b\", '\\\\bhis\\\\b', \"\\\\bshan't\\\\b\", '\\\\bthen\\\\b', '\\\\band\\\\b', '\\\\bhadn\\\\b', '\\\\bhas\\\\b', '\\\\bfurther\\\\b', '\\\\bshe\\\\b', '\\\\bin\\\\b', '\\\\bhasn\\\\b', '\\\\bours\\\\b', '\\\\bdid\\\\b', '\\\\bshan\\\\b', '\\\\bweren\\\\b', \"\\\\bmustn't\\\\b\", '\\\\bwhy\\\\b', '\\\\bhaven\\\\b', '\\\\bma\\\\b', '\\\\bhere\\\\b', \"\\\\bwouldn't\\\\b\", '\\\\bisn\\\\b', '\\\\bthrough\\\\b', '\\\\bthe\\\\b', '\\\\bfrom\\\\b', '\\\\bhow\\\\b', '\\\\bour\\\\b', '\\\\bwas\\\\b', '\\\\bbeing\\\\b', '\\\\bagainst\\\\b', '\\\\bdoing\\\\b', '\\\\ball\\\\b', '\\\\bthat\\\\b', '\\\\bthis\\\\b', \"\\\\bneedn't\\\\b\", '\\\\bown\\\\b', \"\\\\bshould've\\\\b\", '\\\\bthese\\\\b', '\\\\bshouldn\\\\b', \"\\\\bthat'll\\\\b\", '\\\\bon\\\\b', '\\\\bneedn\\\\b', '\\\\bve\\\\b', \"\\\\bwon't\\\\b\", '\\\\bmustn\\\\b', '\\\\bwhat\\\\b', '\\\\bll\\\\b', \"\\\\bdidn't\\\\b\", \"\\\\bhaven't\\\\b\", \"\\\\byou'll\\\\b\", '\\\\bm\\\\b', '\\\\bwon\\\\b', '\\\\bwasn\\\\b', '\\\\bd\\\\b', '\\\\bi\\\\b', '\\\\bsome\\\\b']\n"
     ]
    }
   ],
   "source": [
    "STOPWORDS2 = ['\\\\b'+ w +'\\\\b' for w in list(STOPWORDS)]\n",
    "print(STOPWORDS2)"
   ]
  },
  {
   "cell_type": "code",
   "execution_count": 36,
   "metadata": {},
   "outputs": [],
   "source": [
    "STOPWORDSRE = re.compile(\"|\".join(list(STOPWORDS)))"
   ]
  },
  {
   "cell_type": "code",
   "execution_count": 38,
   "metadata": {},
   "outputs": [
    {
     "name": "stdout",
     "output_type": "stream",
     "text": [
      "   fence     evl    lerl_evl\n"
     ]
    }
   ],
   "source": [
    "mytext = re.sub(STOPWORDSRE, '', mytext)\n",
    "print(mytext)"
   ]
  },
  {
   "cell_type": "code",
   "execution_count": null,
   "metadata": {},
   "outputs": [],
   "source": []
  }
 ],
 "metadata": {
  "kernelspec": {
   "display_name": "Python 3",
   "language": "python",
   "name": "python3"
  },
  "language_info": {
   "codemirror_mode": {
    "name": "ipython",
    "version": 3
   },
   "file_extension": ".py",
   "mimetype": "text/x-python",
   "name": "python",
   "nbconvert_exporter": "python",
   "pygments_lexer": "ipython3",
   "version": "3.5.5"
  }
 },
 "nbformat": 4,
 "nbformat_minor": 2
}
