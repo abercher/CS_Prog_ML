{
 "cells": [
  {
   "cell_type": "markdown",
   "metadata": {},
   "source": [
    "In this notebook, I will try to play around with regular expressions, testing what I learned here:\n",
    "https://docs.python.org/3.5/howto/regex.html#regex-howto"
   ]
  },
  {
   "cell_type": "code",
   "execution_count": 2,
   "metadata": {},
   "outputs": [],
   "source": [
    "import re"
   ]
  },
  {
   "cell_type": "code",
   "execution_count": 3,
   "metadata": {},
   "outputs": [
    {
     "name": "stdout",
     "output_type": "stream",
     "text": [
      "None\n"
     ]
    }
   ],
   "source": [
    "p = re.compile('[a-z]+')\n",
    "p.match(\"\")\n",
    "print(p.match(\"\"))"
   ]
  },
  {
   "cell_type": "code",
   "execution_count": 4,
   "metadata": {},
   "outputs": [
    {
     "data": {
      "text/plain": [
       "<_sre.SRE_Match object; span=(0, 5), match='tempo'>"
      ]
     },
     "execution_count": 4,
     "metadata": {},
     "output_type": "execute_result"
    }
   ],
   "source": [
    "m = p.match('tempo')\n",
    "m"
   ]
  },
  {
   "cell_type": "code",
   "execution_count": 5,
   "metadata": {},
   "outputs": [
    {
     "data": {
      "text/plain": [
       "'tempo'"
      ]
     },
     "execution_count": 5,
     "metadata": {},
     "output_type": "execute_result"
    }
   ],
   "source": [
    "m.group()"
   ]
  },
  {
   "cell_type": "code",
   "execution_count": 6,
   "metadata": {},
   "outputs": [
    {
     "data": {
      "text/plain": [
       "(0, 5)"
      ]
     },
     "execution_count": 6,
     "metadata": {},
     "output_type": "execute_result"
    }
   ],
   "source": [
    "m.start(), m.end()"
   ]
  },
  {
   "cell_type": "code",
   "execution_count": 7,
   "metadata": {},
   "outputs": [
    {
     "data": {
      "text/plain": [
       "(0, 5)"
      ]
     },
     "execution_count": 7,
     "metadata": {},
     "output_type": "execute_result"
    }
   ],
   "source": [
    "m.span()"
   ]
  },
  {
   "cell_type": "code",
   "execution_count": 8,
   "metadata": {},
   "outputs": [
    {
     "name": "stdout",
     "output_type": "stream",
     "text": [
      "None\n"
     ]
    }
   ],
   "source": [
    "print(p.match('::: message'))"
   ]
  },
  {
   "cell_type": "code",
   "execution_count": 9,
   "metadata": {},
   "outputs": [
    {
     "name": "stdout",
     "output_type": "stream",
     "text": [
      "<_sre.SRE_Match object; span=(4, 11), match='message'>\n"
     ]
    }
   ],
   "source": [
    "m = p.search('::: message'); print(m)"
   ]
  },
  {
   "cell_type": "code",
   "execution_count": 10,
   "metadata": {},
   "outputs": [
    {
     "data": {
      "text/plain": [
       "'message'"
      ]
     },
     "execution_count": 10,
     "metadata": {},
     "output_type": "execute_result"
    }
   ],
   "source": [
    "m.group()"
   ]
  },
  {
   "cell_type": "code",
   "execution_count": 11,
   "metadata": {},
   "outputs": [
    {
     "data": {
      "text/plain": [
       "(4, 11)"
      ]
     },
     "execution_count": 11,
     "metadata": {},
     "output_type": "execute_result"
    }
   ],
   "source": [
    "m.span()"
   ]
  },
  {
   "cell_type": "code",
   "execution_count": 12,
   "metadata": {},
   "outputs": [
    {
     "name": "stdout",
     "output_type": "stream",
     "text": [
      "the the\n",
      "['the', 'spring']\n"
     ]
    }
   ],
   "source": [
    "p = re.compile(r'(\\b\\w+)\\s+\\1') #any word followed by a space and then repeated\n",
    "print(p.search('Paris in the the spring spring').group())\n",
    "print(p.findall('Paris in the the spring spring'))"
   ]
  },
  {
   "cell_type": "code",
   "execution_count": null,
   "metadata": {},
   "outputs": [],
   "source": []
  },
  {
   "cell_type": "code",
   "execution_count": null,
   "metadata": {},
   "outputs": [],
   "source": []
  },
  {
   "cell_type": "code",
   "execution_count": 13,
   "metadata": {},
   "outputs": [
    {
     "name": "stdout",
     "output_type": "stream",
     "text": [
      "[nltk_data] Downloading package stopwords to /home/aritz/nltk_data...\n",
      "[nltk_data]   Package stopwords is already up-to-date!\n"
     ]
    }
   ],
   "source": [
    "import nltk\n",
    "nltk.download('stopwords')\n",
    "from nltk.corpus import stopwords"
   ]
  },
  {
   "cell_type": "code",
   "execution_count": 14,
   "metadata": {},
   "outputs": [],
   "source": [
    "REPLACE_BY_SPACE_RE = re.compile('[/(){}\\[\\]\\|@,;]')\n",
    "BAD_SYMBOLS_RE = re.compile('[^0-9a-z #+_]') #this RE, means everything except numbers, letters, and #+_\n",
    "STOPWORDS = set(stopwords.words('english'))"
   ]
  },
  {
   "cell_type": "code",
   "execution_count": 15,
   "metadata": {},
   "outputs": [
    {
     "name": "stdout",
     "output_type": "stream",
     "text": [
      "what is the difference between    eval    astlitteral_eval\n"
     ]
    }
   ],
   "source": [
    "mytext = 'What is the difference between  @ eval() & ast.litteral_eval?'\n",
    "mytext = mytext.lower()\n",
    "mytext = re.sub(REPLACE_BY_SPACE_RE, ' ', mytext)\n",
    "mytext = re.sub(BAD_SYMBOLS_RE, '', mytext)\n",
    "print(mytext)"
   ]
  },
  {
   "cell_type": "code",
   "execution_count": 16,
   "metadata": {},
   "outputs": [
    {
     "name": "stdout",
     "output_type": "stream",
     "text": [
      "['more', 'most', 'very', 'out', 'once', 'needn', \"won't\", 'does', 'been', 'no', \"needn't\", 'our', 'such', 'hasn', 'this', 'll', 'doesn', 'having', \"weren't\", 'same', 'below', \"mightn't\", 'i', 'don', 'their', 'itself', 'between', \"you'll\", \"isn't\", 're', 'further', 'each', 'yourselves', \"hasn't\", 'is', 'and', 'whom', 'from', \"should've\", \"you'd\", 'over', 'd', 'being', 'wouldn', 'had', 'be', 'her', 'are', 'shouldn', \"doesn't\", 'won', 'have', 'only', 'who', 'aren', 'weren', 'down', 'with', 'up', 've', 'after', \"mustn't\", 'as', 'on', 'do', \"couldn't\", \"wouldn't\", 'into', 'again', 'themselves', 'wasn', 'did', 'am', 'which', 'y', 'your', 'hadn', 'while', 'against', 'couldn', 'they', 'the', 'where', 'why', 'nor', 'under', 'me', 'through', 'will', \"wasn't\", 'not', 'ma', 's', 'ain', 'ourselves', 'a', 'all', 'few', 'now', 'them', 'any', 'when', 'its', 'you', \"she's\", 'how', \"it's\", 'has', 'for', \"don't\", 'then', 'too', 'haven', \"shan't\", 'o', 'it', 'm', 'can', 'mustn', 'herself', 'before', 'myself', 'yourself', 'she', 'here', \"haven't\", 'he', 'at', 'theirs', 'in', 'both', 't', 'shan', 'there', 'just', 'mightn', 'if', 'about', 'ours', 'but', 'that', 'than', \"shouldn't\", 'were', 'because', 'should', \"that'll\", 'own', 'of', 'my', 'isn', 'didn', 'an', 'off', 'what', 'so', 'by', 'other', 'his', \"aren't\", \"you're\", 'doing', 'to', 'these', \"didn't\", 'yours', 'until', 'during', 'those', 'above', 'him', 'or', 'we', \"you've\", \"hadn't\", 'himself', 'hers', 'was', 'some']\n"
     ]
    }
   ],
   "source": [
    "print(list(STOPWORDS))"
   ]
  },
  {
   "cell_type": "code",
   "execution_count": 17,
   "metadata": {},
   "outputs": [],
   "source": [
    "w = list(STOPWORDS)[0]"
   ]
  },
  {
   "cell_type": "code",
   "execution_count": 18,
   "metadata": {},
   "outputs": [
    {
     "name": "stdout",
     "output_type": "stream",
     "text": [
      "more\n"
     ]
    }
   ],
   "source": [
    "print(w)"
   ]
  },
  {
   "cell_type": "markdown",
   "metadata": {},
   "source": [
    "I don't understand the different behaviour between these two cells."
   ]
  },
  {
   "cell_type": "code",
   "execution_count": 19,
   "metadata": {},
   "outputs": [
    {
     "name": "stdout",
     "output_type": "stream",
     "text": [
      "'\\\\bmore\\\\b'\n"
     ]
    }
   ],
   "source": [
    "print(repr('\\\\b'+ w +'\\\\b'))"
   ]
  },
  {
   "cell_type": "code",
   "execution_count": 20,
   "metadata": {},
   "outputs": [
    {
     "name": "stdout",
     "output_type": "stream",
     "text": [
      "'\\\\bmore\\\\b'\n",
      "'\\\\bmost\\\\b'\n",
      "'\\\\bvery\\\\b'\n",
      "'\\\\bout\\\\b'\n",
      "'\\\\bonce\\\\b'\n",
      "'\\\\bneedn\\\\b'\n",
      "\"\\\\bwon't\\\\b\"\n",
      "'\\\\bdoes\\\\b'\n",
      "'\\\\bbeen\\\\b'\n",
      "'\\\\bno\\\\b'\n",
      "\"\\\\bneedn't\\\\b\"\n",
      "'\\\\bour\\\\b'\n",
      "'\\\\bsuch\\\\b'\n",
      "'\\\\bhasn\\\\b'\n",
      "'\\\\bthis\\\\b'\n",
      "'\\\\bll\\\\b'\n",
      "'\\\\bdoesn\\\\b'\n",
      "'\\\\bhaving\\\\b'\n",
      "\"\\\\bweren't\\\\b\"\n",
      "'\\\\bsame\\\\b'\n",
      "'\\\\bbelow\\\\b'\n",
      "\"\\\\bmightn't\\\\b\"\n",
      "'\\\\bi\\\\b'\n",
      "'\\\\bdon\\\\b'\n",
      "'\\\\btheir\\\\b'\n",
      "'\\\\bitself\\\\b'\n",
      "'\\\\bbetween\\\\b'\n",
      "\"\\\\byou'll\\\\b\"\n",
      "\"\\\\bisn't\\\\b\"\n",
      "'\\\\bre\\\\b'\n",
      "'\\\\bfurther\\\\b'\n",
      "'\\\\beach\\\\b'\n",
      "'\\\\byourselves\\\\b'\n",
      "\"\\\\bhasn't\\\\b\"\n",
      "'\\\\bis\\\\b'\n",
      "'\\\\band\\\\b'\n",
      "'\\\\bwhom\\\\b'\n",
      "'\\\\bfrom\\\\b'\n",
      "\"\\\\bshould've\\\\b\"\n",
      "\"\\\\byou'd\\\\b\"\n",
      "'\\\\bover\\\\b'\n",
      "'\\\\bd\\\\b'\n",
      "'\\\\bbeing\\\\b'\n",
      "'\\\\bwouldn\\\\b'\n",
      "'\\\\bhad\\\\b'\n",
      "'\\\\bbe\\\\b'\n",
      "'\\\\bher\\\\b'\n",
      "'\\\\bare\\\\b'\n",
      "'\\\\bshouldn\\\\b'\n",
      "\"\\\\bdoesn't\\\\b\"\n",
      "'\\\\bwon\\\\b'\n",
      "'\\\\bhave\\\\b'\n",
      "'\\\\bonly\\\\b'\n",
      "'\\\\bwho\\\\b'\n",
      "'\\\\baren\\\\b'\n",
      "'\\\\bweren\\\\b'\n",
      "'\\\\bdown\\\\b'\n",
      "'\\\\bwith\\\\b'\n",
      "'\\\\bup\\\\b'\n",
      "'\\\\bve\\\\b'\n",
      "'\\\\bafter\\\\b'\n",
      "\"\\\\bmustn't\\\\b\"\n",
      "'\\\\bas\\\\b'\n",
      "'\\\\bon\\\\b'\n",
      "'\\\\bdo\\\\b'\n",
      "\"\\\\bcouldn't\\\\b\"\n",
      "\"\\\\bwouldn't\\\\b\"\n",
      "'\\\\binto\\\\b'\n",
      "'\\\\bagain\\\\b'\n",
      "'\\\\bthemselves\\\\b'\n",
      "'\\\\bwasn\\\\b'\n",
      "'\\\\bdid\\\\b'\n",
      "'\\\\bam\\\\b'\n",
      "'\\\\bwhich\\\\b'\n",
      "'\\\\by\\\\b'\n",
      "'\\\\byour\\\\b'\n",
      "'\\\\bhadn\\\\b'\n",
      "'\\\\bwhile\\\\b'\n",
      "'\\\\bagainst\\\\b'\n",
      "'\\\\bcouldn\\\\b'\n",
      "'\\\\bthey\\\\b'\n",
      "'\\\\bthe\\\\b'\n",
      "'\\\\bwhere\\\\b'\n",
      "'\\\\bwhy\\\\b'\n",
      "'\\\\bnor\\\\b'\n",
      "'\\\\bunder\\\\b'\n",
      "'\\\\bme\\\\b'\n",
      "'\\\\bthrough\\\\b'\n",
      "'\\\\bwill\\\\b'\n",
      "\"\\\\bwasn't\\\\b\"\n",
      "'\\\\bnot\\\\b'\n",
      "'\\\\bma\\\\b'\n",
      "'\\\\bs\\\\b'\n",
      "'\\\\bain\\\\b'\n",
      "'\\\\bourselves\\\\b'\n",
      "'\\\\ba\\\\b'\n",
      "'\\\\ball\\\\b'\n",
      "'\\\\bfew\\\\b'\n",
      "'\\\\bnow\\\\b'\n",
      "'\\\\bthem\\\\b'\n",
      "'\\\\bany\\\\b'\n",
      "'\\\\bwhen\\\\b'\n",
      "'\\\\bits\\\\b'\n",
      "'\\\\byou\\\\b'\n",
      "\"\\\\bshe's\\\\b\"\n",
      "'\\\\bhow\\\\b'\n",
      "\"\\\\bit's\\\\b\"\n",
      "'\\\\bhas\\\\b'\n",
      "'\\\\bfor\\\\b'\n",
      "\"\\\\bdon't\\\\b\"\n",
      "'\\\\bthen\\\\b'\n",
      "'\\\\btoo\\\\b'\n",
      "'\\\\bhaven\\\\b'\n",
      "\"\\\\bshan't\\\\b\"\n",
      "'\\\\bo\\\\b'\n",
      "'\\\\bit\\\\b'\n",
      "'\\\\bm\\\\b'\n",
      "'\\\\bcan\\\\b'\n",
      "'\\\\bmustn\\\\b'\n",
      "'\\\\bherself\\\\b'\n",
      "'\\\\bbefore\\\\b'\n",
      "'\\\\bmyself\\\\b'\n",
      "'\\\\byourself\\\\b'\n",
      "'\\\\bshe\\\\b'\n",
      "'\\\\bhere\\\\b'\n",
      "\"\\\\bhaven't\\\\b\"\n",
      "'\\\\bhe\\\\b'\n",
      "'\\\\bat\\\\b'\n",
      "'\\\\btheirs\\\\b'\n",
      "'\\\\bin\\\\b'\n",
      "'\\\\bboth\\\\b'\n",
      "'\\\\bt\\\\b'\n",
      "'\\\\bshan\\\\b'\n",
      "'\\\\bthere\\\\b'\n",
      "'\\\\bjust\\\\b'\n",
      "'\\\\bmightn\\\\b'\n",
      "'\\\\bif\\\\b'\n",
      "'\\\\babout\\\\b'\n",
      "'\\\\bours\\\\b'\n",
      "'\\\\bbut\\\\b'\n",
      "'\\\\bthat\\\\b'\n",
      "'\\\\bthan\\\\b'\n",
      "\"\\\\bshouldn't\\\\b\"\n",
      "'\\\\bwere\\\\b'\n",
      "'\\\\bbecause\\\\b'\n",
      "'\\\\bshould\\\\b'\n",
      "\"\\\\bthat'll\\\\b\"\n",
      "'\\\\bown\\\\b'\n",
      "'\\\\bof\\\\b'\n",
      "'\\\\bmy\\\\b'\n",
      "'\\\\bisn\\\\b'\n",
      "'\\\\bdidn\\\\b'\n",
      "'\\\\ban\\\\b'\n",
      "'\\\\boff\\\\b'\n",
      "'\\\\bwhat\\\\b'\n",
      "'\\\\bso\\\\b'\n",
      "'\\\\bby\\\\b'\n",
      "'\\\\bother\\\\b'\n",
      "'\\\\bhis\\\\b'\n",
      "\"\\\\baren't\\\\b\"\n",
      "\"\\\\byou're\\\\b\"\n",
      "'\\\\bdoing\\\\b'\n",
      "'\\\\bto\\\\b'\n",
      "'\\\\bthese\\\\b'\n",
      "\"\\\\bdidn't\\\\b\"\n",
      "'\\\\byours\\\\b'\n",
      "'\\\\buntil\\\\b'\n",
      "'\\\\bduring\\\\b'\n",
      "'\\\\bthose\\\\b'\n",
      "'\\\\babove\\\\b'\n",
      "'\\\\bhim\\\\b'\n",
      "'\\\\bor\\\\b'\n",
      "'\\\\bwe\\\\b'\n",
      "\"\\\\byou've\\\\b\"\n",
      "\"\\\\bhadn't\\\\b\"\n",
      "'\\\\bhimself\\\\b'\n",
      "'\\\\bhers\\\\b'\n",
      "'\\\\bwas\\\\b'\n",
      "'\\\\bsome\\\\b'\n"
     ]
    }
   ],
   "source": [
    "STOPWORDS2 = ['\\\\b'+ w +'\\\\b' for w in list(STOPWORDS)]\n",
    "for x in STOPWORDS2:\n",
    "    print(repr(x))"
   ]
  },
  {
   "cell_type": "code",
   "execution_count": 21,
   "metadata": {},
   "outputs": [
    {
     "name": "stdout",
     "output_type": "stream",
     "text": [
      "['\\\\bmore\\\\b', '\\\\bmost\\\\b', '\\\\bvery\\\\b', '\\\\bout\\\\b', '\\\\bonce\\\\b', '\\\\bneedn\\\\b', \"\\\\bwon't\\\\b\", '\\\\bdoes\\\\b', '\\\\bbeen\\\\b', '\\\\bno\\\\b', \"\\\\bneedn't\\\\b\", '\\\\bour\\\\b', '\\\\bsuch\\\\b', '\\\\bhasn\\\\b', '\\\\bthis\\\\b', '\\\\bll\\\\b', '\\\\bdoesn\\\\b', '\\\\bhaving\\\\b', \"\\\\bweren't\\\\b\", '\\\\bsame\\\\b', '\\\\bbelow\\\\b', \"\\\\bmightn't\\\\b\", '\\\\bi\\\\b', '\\\\bdon\\\\b', '\\\\btheir\\\\b', '\\\\bitself\\\\b', '\\\\bbetween\\\\b', \"\\\\byou'll\\\\b\", \"\\\\bisn't\\\\b\", '\\\\bre\\\\b', '\\\\bfurther\\\\b', '\\\\beach\\\\b', '\\\\byourselves\\\\b', \"\\\\bhasn't\\\\b\", '\\\\bis\\\\b', '\\\\band\\\\b', '\\\\bwhom\\\\b', '\\\\bfrom\\\\b', \"\\\\bshould've\\\\b\", \"\\\\byou'd\\\\b\", '\\\\bover\\\\b', '\\\\bd\\\\b', '\\\\bbeing\\\\b', '\\\\bwouldn\\\\b', '\\\\bhad\\\\b', '\\\\bbe\\\\b', '\\\\bher\\\\b', '\\\\bare\\\\b', '\\\\bshouldn\\\\b', \"\\\\bdoesn't\\\\b\", '\\\\bwon\\\\b', '\\\\bhave\\\\b', '\\\\bonly\\\\b', '\\\\bwho\\\\b', '\\\\baren\\\\b', '\\\\bweren\\\\b', '\\\\bdown\\\\b', '\\\\bwith\\\\b', '\\\\bup\\\\b', '\\\\bve\\\\b', '\\\\bafter\\\\b', \"\\\\bmustn't\\\\b\", '\\\\bas\\\\b', '\\\\bon\\\\b', '\\\\bdo\\\\b', \"\\\\bcouldn't\\\\b\", \"\\\\bwouldn't\\\\b\", '\\\\binto\\\\b', '\\\\bagain\\\\b', '\\\\bthemselves\\\\b', '\\\\bwasn\\\\b', '\\\\bdid\\\\b', '\\\\bam\\\\b', '\\\\bwhich\\\\b', '\\\\by\\\\b', '\\\\byour\\\\b', '\\\\bhadn\\\\b', '\\\\bwhile\\\\b', '\\\\bagainst\\\\b', '\\\\bcouldn\\\\b', '\\\\bthey\\\\b', '\\\\bthe\\\\b', '\\\\bwhere\\\\b', '\\\\bwhy\\\\b', '\\\\bnor\\\\b', '\\\\bunder\\\\b', '\\\\bme\\\\b', '\\\\bthrough\\\\b', '\\\\bwill\\\\b', \"\\\\bwasn't\\\\b\", '\\\\bnot\\\\b', '\\\\bma\\\\b', '\\\\bs\\\\b', '\\\\bain\\\\b', '\\\\bourselves\\\\b', '\\\\ba\\\\b', '\\\\ball\\\\b', '\\\\bfew\\\\b', '\\\\bnow\\\\b', '\\\\bthem\\\\b', '\\\\bany\\\\b', '\\\\bwhen\\\\b', '\\\\bits\\\\b', '\\\\byou\\\\b', \"\\\\bshe's\\\\b\", '\\\\bhow\\\\b', \"\\\\bit's\\\\b\", '\\\\bhas\\\\b', '\\\\bfor\\\\b', \"\\\\bdon't\\\\b\", '\\\\bthen\\\\b', '\\\\btoo\\\\b', '\\\\bhaven\\\\b', \"\\\\bshan't\\\\b\", '\\\\bo\\\\b', '\\\\bit\\\\b', '\\\\bm\\\\b', '\\\\bcan\\\\b', '\\\\bmustn\\\\b', '\\\\bherself\\\\b', '\\\\bbefore\\\\b', '\\\\bmyself\\\\b', '\\\\byourself\\\\b', '\\\\bshe\\\\b', '\\\\bhere\\\\b', \"\\\\bhaven't\\\\b\", '\\\\bhe\\\\b', '\\\\bat\\\\b', '\\\\btheirs\\\\b', '\\\\bin\\\\b', '\\\\bboth\\\\b', '\\\\bt\\\\b', '\\\\bshan\\\\b', '\\\\bthere\\\\b', '\\\\bjust\\\\b', '\\\\bmightn\\\\b', '\\\\bif\\\\b', '\\\\babout\\\\b', '\\\\bours\\\\b', '\\\\bbut\\\\b', '\\\\bthat\\\\b', '\\\\bthan\\\\b', \"\\\\bshouldn't\\\\b\", '\\\\bwere\\\\b', '\\\\bbecause\\\\b', '\\\\bshould\\\\b', \"\\\\bthat'll\\\\b\", '\\\\bown\\\\b', '\\\\bof\\\\b', '\\\\bmy\\\\b', '\\\\bisn\\\\b', '\\\\bdidn\\\\b', '\\\\ban\\\\b', '\\\\boff\\\\b', '\\\\bwhat\\\\b', '\\\\bso\\\\b', '\\\\bby\\\\b', '\\\\bother\\\\b', '\\\\bhis\\\\b', \"\\\\baren't\\\\b\", \"\\\\byou're\\\\b\", '\\\\bdoing\\\\b', '\\\\bto\\\\b', '\\\\bthese\\\\b', \"\\\\bdidn't\\\\b\", '\\\\byours\\\\b', '\\\\buntil\\\\b', '\\\\bduring\\\\b', '\\\\bthose\\\\b', '\\\\babove\\\\b', '\\\\bhim\\\\b', '\\\\bor\\\\b', '\\\\bwe\\\\b', \"\\\\byou've\\\\b\", \"\\\\bhadn't\\\\b\", '\\\\bhimself\\\\b', '\\\\bhers\\\\b', '\\\\bwas\\\\b', '\\\\bsome\\\\b']\n"
     ]
    }
   ],
   "source": [
    "print(STOPWORDS2)"
   ]
  },
  {
   "cell_type": "code",
   "execution_count": 23,
   "metadata": {},
   "outputs": [],
   "source": [
    "STOPWORDSRE = re.compile(\"|\".join(list(STOPWORDS2)))"
   ]
  },
  {
   "cell_type": "code",
   "execution_count": 24,
   "metadata": {},
   "outputs": [
    {
     "name": "stdout",
     "output_type": "stream",
     "text": [
      "   difference     eval    astlitteral_eval\n"
     ]
    }
   ],
   "source": [
    "mytext = re.sub(STOPWORDSRE, '', mytext)\n",
    "print(mytext)"
   ]
  },
  {
   "cell_type": "code",
   "execution_count": null,
   "metadata": {},
   "outputs": [],
   "source": []
  }
 ],
 "metadata": {
  "kernelspec": {
   "display_name": "Python 3",
   "language": "python",
   "name": "python3"
  },
  "language_info": {
   "codemirror_mode": {
    "name": "ipython",
    "version": 3
   },
   "file_extension": ".py",
   "mimetype": "text/x-python",
   "name": "python",
   "nbconvert_exporter": "python",
   "pygments_lexer": "ipython3",
   "version": "3.5.5"
  }
 },
 "nbformat": 4,
 "nbformat_minor": 2
}
