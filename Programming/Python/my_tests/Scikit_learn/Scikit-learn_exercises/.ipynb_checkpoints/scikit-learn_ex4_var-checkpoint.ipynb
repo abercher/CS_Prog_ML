{
 "cells": [
  {
   "cell_type": "code",
   "execution_count": 6,
   "metadata": {
    "collapsed": true
   },
   "outputs": [],
   "source": [
    "import numpy as np\n",
    "from sklearn import datasets\n",
    "from sklearn.linear_model import LassoCV\n",
    "from sklearn.linear_model import Lasso\n",
    "from sklearn.model_selection import KFold\n",
    "from sklearn.model_selection import GridSearchCV\n",
    "\n",
    "diabetes = datasets.load_diabetes()"
   ]
  },
  {
   "cell_type": "code",
   "execution_count": 7,
   "metadata": {
    "collapsed": true
   },
   "outputs": [],
   "source": [
    "X = diabetes.data[:150]\n",
    "y = diabetes.target[:150]"
   ]
  },
  {
   "cell_type": "code",
   "execution_count": 34,
   "metadata": {},
   "outputs": [],
   "source": [
    "# It seems that shuffling or not the dataset before splitting it into k folds has\n",
    "# a strong influence on the result, in our case.\n",
    "# Not only the value of the optimal alpha is different but \n",
    "# I also obtain some warnings during the esimation, if I shuffle the data."
   ]
  },
  {
   "cell_type": "code",
   "execution_count": 35,
   "metadata": {
    "collapsed": true
   },
   "outputs": [],
   "source": [
    "k_fold = KFold(n_splits=3, shuffle=False)\n",
    "#alphas = np.arange(0.01, 1, 0.01)\n",
    "alphas = np.logspace(-4, -0.5, 30)"
   ]
  },
  {
   "cell_type": "code",
   "execution_count": 36,
   "metadata": {},
   "outputs": [],
   "source": [
    "regr_1 = Lasso()\n",
    "scores_1 = np.zeros(len(alphas))\n",
    "for i in range(len(alphas)):\n",
    "    scores_1[i] = np.mean([regr_1.set_params(alpha=alphas[i]).fit(X[train], y[train]).score(X[test], y[test]) \n",
    "                           for train, test in k_fold.split(X)])"
   ]
  },
  {
   "cell_type": "code",
   "execution_count": 37,
   "metadata": {},
   "outputs": [
    {
     "name": "stdout",
     "output_type": "stream",
     "text": [
      "[ 0.34908311  0.34919799  0.34934947  0.34954908  0.34981211  0.35015826\n",
      "  0.35061336  0.35121121  0.35199462  0.35301935  0.35435493  0.35608875\n",
      "  0.35832605  0.36119022  0.36479555  0.36855937  0.37102098  0.37373637\n",
      "  0.37536354  0.37701536  0.37935476  0.38233056  0.38443899  0.3865947\n",
      "  0.38753399  0.38591916  0.38284243  0.37482125  0.35843308  0.33333268]\n"
     ]
    }
   ],
   "source": [
    "print(scores_1)"
   ]
  },
  {
   "cell_type": "code",
   "execution_count": 38,
   "metadata": {},
   "outputs": [
    {
     "name": "stdout",
     "output_type": "stream",
     "text": [
      "0.0788046281567\n"
     ]
    }
   ],
   "source": [
    "print(alphas[np.argmax(scores_1)])"
   ]
  },
  {
   "cell_type": "code",
   "execution_count": 39,
   "metadata": {},
   "outputs": [
    {
     "name": "stdout",
     "output_type": "stream",
     "text": [
      "[  1.00000000e-04   1.32035178e-04   1.74332882e-04   2.30180731e-04\n",
      "   3.03919538e-04   4.01280703e-04   5.29831691e-04   6.99564216e-04\n",
      "   9.23670857e-04   1.21957046e-03   1.61026203e-03   2.12611233e-03\n",
      "   2.80721620e-03   3.70651291e-03   4.89390092e-03   6.46167079e-03\n",
      "   8.53167852e-03   1.12648169e-02   1.48735211e-02   1.96382800e-02\n",
      "   2.59294380e-02   3.42359796e-02   4.52035366e-02   5.96845700e-02\n",
      "   7.88046282e-02   1.04049831e-01   1.37382380e-01   1.81393069e-01\n",
      "   2.39502662e-01   3.16227766e-01]\n"
     ]
    }
   ],
   "source": [
    "print(alphas)"
   ]
  },
  {
   "cell_type": "code",
   "execution_count": null,
   "metadata": {
    "collapsed": true
   },
   "outputs": [],
   "source": []
  }
 ],
 "metadata": {
  "kernelspec": {
   "display_name": "Python 3",
   "language": "python",
   "name": "python3"
  },
  "language_info": {
   "codemirror_mode": {
    "name": "ipython",
    "version": 3
   },
   "file_extension": ".py",
   "mimetype": "text/x-python",
   "name": "python",
   "nbconvert_exporter": "python",
   "pygments_lexer": "ipython3",
   "version": "3.6.2"
  }
 },
 "nbformat": 4,
 "nbformat_minor": 2
}
