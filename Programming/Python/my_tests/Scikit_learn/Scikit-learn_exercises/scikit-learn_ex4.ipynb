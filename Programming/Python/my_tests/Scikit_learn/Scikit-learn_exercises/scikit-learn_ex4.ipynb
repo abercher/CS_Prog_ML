{
 "cells": [
  {
   "cell_type": "code",
   "execution_count": 1,
   "metadata": {
    "collapsed": true
   },
   "outputs": [],
   "source": [
    "# This exercise was taken from\n",
    "# http://scikit-learn.org/stable/tutorial/statistical_inference/model_selection.html"
   ]
  },
  {
   "cell_type": "markdown",
   "metadata": {},
   "source": [
    "Remarks concerning this script:\n",
    "This is my personal solution to the exercise. I realized that the two methods \n",
    "I used here give different results so I looked at the solution.\n",
    "First, it seems that choosing to shuffle the observations\n",
    "before splitting them into k folds has a non-negligeable effect.\n",
    "Also it seems that for some obscure reason, the official\n",
    "solution only uses the first 150 observations (out of 442) which\n",
    "has also an effect on the resulting optimal alpha.\n",
    "Then it seemst that the built-in method agreas with the manual WITHOUT\n",
    "shuffling, when the grid is provided for the paramter search.\n",
    "When the grid is not provided, the alpha found is still very similar.\n",
    "There are two other files related to this script: scikit-learn_ex4_var,\n",
    "where I modified some parameters to see how it changed, and scikit-learn_ex4_sol,\n",
    "which contains the official solution."
   ]
  },
  {
   "cell_type": "code",
   "execution_count": 3,
   "metadata": {
    "collapsed": true
   },
   "outputs": [],
   "source": [
    "import numpy as np\n",
    "from sklearn import datasets\n",
    "from sklearn.linear_model import LassoCV\n",
    "from sklearn.linear_model import Lasso\n",
    "from sklearn.model_selection import KFold\n",
    "from sklearn.model_selection import GridSearchCV\n",
    "\n",
    "diabetes = datasets.load_diabetes()"
   ]
  },
  {
   "cell_type": "code",
   "execution_count": 11,
   "metadata": {},
   "outputs": [],
   "source": [
    "X = diabetes.data\n",
    "y = diabetes.target"
   ]
  },
  {
   "cell_type": "code",
   "execution_count": 38,
   "metadata": {
    "collapsed": true
   },
   "outputs": [],
   "source": [
    "k_fold = KFold(n_splits=3, shuffle=False)\n",
    "alphas = np.logspace(-4, -0.5, 30)"
   ]
  },
  {
   "cell_type": "code",
   "execution_count": 39,
   "metadata": {
    "collapsed": true
   },
   "outputs": [],
   "source": [
    "# First method: manual CV with KFold"
   ]
  },
  {
   "cell_type": "code",
   "execution_count": 40,
   "metadata": {
    "collapsed": true
   },
   "outputs": [],
   "source": [
    "regr_1 = Lasso()\n",
    "scores_1 = np.zeros(len(alphas))"
   ]
  },
  {
   "cell_type": "code",
   "execution_count": 41,
   "metadata": {
    "collapsed": true
   },
   "outputs": [],
   "source": [
    "for i in range(len(alphas)):\n",
    "    scores_1[i] = np.mean([regr_1.set_params(alpha=alphas[i]).fit(X[train], y[train]).score(X[test], y[test]) \n",
    "                           for train, test in k_fold.split(X)])"
   ]
  },
  {
   "cell_type": "code",
   "execution_count": 42,
   "metadata": {},
   "outputs": [
    {
     "data": {
      "text/plain": [
       "array([ 0.48869329,  0.48869012,  0.48868584,  0.48868   ,  0.48867199,\n",
       "        0.48866087,  0.48864527,  0.48862308,  0.48859094,  0.48854362,\n",
       "        0.48847249,  0.48844691,  0.48858788,  0.48875045,  0.48894351,\n",
       "        0.48910838,  0.4892294 ,  0.48933274,  0.48927415,  0.48912505,\n",
       "        0.48904068,  0.48863356,  0.487985  ,  0.48721608,  0.4870226 ,\n",
       "        0.4865495 ,  0.48504431,  0.48145065,  0.47617173,  0.46804211])"
      ]
     },
     "execution_count": 42,
     "metadata": {},
     "output_type": "execute_result"
    }
   ],
   "source": [
    "scores_1"
   ]
  },
  {
   "cell_type": "code",
   "execution_count": 43,
   "metadata": {},
   "outputs": [
    {
     "data": {
      "text/plain": [
       "17"
      ]
     },
     "execution_count": 43,
     "metadata": {},
     "output_type": "execute_result"
    }
   ],
   "source": [
    "np.argmax(scores_1)"
   ]
  },
  {
   "cell_type": "code",
   "execution_count": 44,
   "metadata": {
    "collapsed": true
   },
   "outputs": [],
   "source": [
    "alpha_opt = alphas[np.argmax(scores_1)]"
   ]
  },
  {
   "cell_type": "code",
   "execution_count": 45,
   "metadata": {},
   "outputs": [
    {
     "data": {
      "text/plain": [
       "0.011264816923358867"
      ]
     },
     "execution_count": 45,
     "metadata": {},
     "output_type": "execute_result"
    }
   ],
   "source": [
    "alpha_opt"
   ]
  },
  {
   "cell_type": "code",
   "execution_count": 46,
   "metadata": {
    "collapsed": true
   },
   "outputs": [],
   "source": [
    "# Second method: Built-in CV for Lasso with same grid"
   ]
  },
  {
   "cell_type": "code",
   "execution_count": 47,
   "metadata": {},
   "outputs": [
    {
     "data": {
      "text/plain": [
       "LassoCV(alphas=array([  1.00000e-04,   1.32035e-04,   1.74333e-04,   2.30181e-04,\n",
       "         3.03920e-04,   4.01281e-04,   5.29832e-04,   6.99564e-04,\n",
       "         9.23671e-04,   1.21957e-03,   1.61026e-03,   2.12611e-03,\n",
       "         2.80722e-03,   3.70651e-03,   4.89390e-03,   6.46167e-03,\n",
       "         8.53168e-03,   1...     7.88046e-02,   1.04050e-01,   1.37382e-01,   1.81393e-01,\n",
       "         2.39503e-01,   3.16228e-01]),\n",
       "    copy_X=True, cv=None, eps=0.001, fit_intercept=True, max_iter=1000,\n",
       "    n_alphas=100, n_jobs=1, normalize=False, positive=False,\n",
       "    precompute='auto', random_state=0, selection='cyclic', tol=0.0001,\n",
       "    verbose=False)"
      ]
     },
     "execution_count": 47,
     "metadata": {},
     "output_type": "execute_result"
    }
   ],
   "source": [
    "regr_2 = LassoCV(alphas=alphas, random_state=0)\n",
    "regr_2.fit(X, y)  "
   ]
  },
  {
   "cell_type": "code",
   "execution_count": 48,
   "metadata": {},
   "outputs": [
    {
     "data": {
      "text/plain": [
       "0.011264816923358867"
      ]
     },
     "execution_count": 48,
     "metadata": {},
     "output_type": "execute_result"
    }
   ],
   "source": [
    "regr_2.alpha_"
   ]
  },
  {
   "cell_type": "code",
   "execution_count": 49,
   "metadata": {},
   "outputs": [
    {
     "data": {
      "text/plain": [
       "0.69446544226528084"
      ]
     },
     "execution_count": 49,
     "metadata": {},
     "output_type": "execute_result"
    }
   ],
   "source": [
    "regr_1.set_params(alpha=0.0112).fit(X[:400], y[:400]).score(X[400:], y[400:])"
   ]
  },
  {
   "cell_type": "code",
   "execution_count": 50,
   "metadata": {
    "collapsed": true
   },
   "outputs": [],
   "source": [
    "# Third method: Built-in CV for Lasso without parameter grid given"
   ]
  },
  {
   "cell_type": "code",
   "execution_count": 51,
   "metadata": {},
   "outputs": [
    {
     "data": {
      "text/plain": [
       "0.012291895087486161"
      ]
     },
     "execution_count": 51,
     "metadata": {},
     "output_type": "execute_result"
    }
   ],
   "source": [
    "regr_3 = LassoCV(random_state=0)\n",
    "regr_3.fit(X, y)  \n",
    "regr_3.alpha_"
   ]
  }
 ],
 "metadata": {
  "kernelspec": {
   "display_name": "Python 3",
   "language": "python",
   "name": "python3"
  },
  "language_info": {
   "codemirror_mode": {
    "name": "ipython",
    "version": 3
   },
   "file_extension": ".py",
   "mimetype": "text/x-python",
   "name": "python",
   "nbconvert_exporter": "python",
   "pygments_lexer": "ipython3",
   "version": "3.6.2"
  }
 },
 "nbformat": 4,
 "nbformat_minor": 2
}
