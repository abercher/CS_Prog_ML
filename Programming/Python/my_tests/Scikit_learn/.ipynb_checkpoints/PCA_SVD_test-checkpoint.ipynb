{
 "cells": [
  {
   "cell_type": "markdown",
   "metadata": {},
   "source": [
    "The goal of this script is to understand better the sk-learn tool for PCA and SVD. The matrix I use here was taken from wikipedia:\n",
    "https://en.wikipedia.org/wiki/Singular-value_decomposition"
   ]
  },
  {
   "cell_type": "code",
   "execution_count": 1,
   "metadata": {
    "collapsed": true
   },
   "outputs": [],
   "source": [
    "from sklearn.decomposition import PCA\n",
    "import numpy as np\n",
    "from scipy.linalg import svd"
   ]
  },
  {
   "cell_type": "code",
   "execution_count": 2,
   "metadata": {
    "collapsed": true
   },
   "outputs": [],
   "source": [
    "X = np.array([[1, 0, 0, 0, 2],\n",
    "              [0, 0, 3, 0, 0],\n",
    "              [0, 0, 0, 0, 0],\n",
    "              [0, 2, 0, 0, 0]])"
   ]
  },
  {
   "cell_type": "markdown",
   "metadata": {},
   "source": [
    "First I use scipy.linalg.svd which gives me the result showed on the wikipedia page."
   ]
  },
  {
   "cell_type": "code",
   "execution_count": 3,
   "metadata": {},
   "outputs": [
    {
     "name": "stdout",
     "output_type": "stream",
     "text": [
      "U = [[ 0.  1.  0.  0.]\n",
      " [ 1.  0.  0.  0.]\n",
      " [ 0.  0.  0. -1.]\n",
      " [ 0.  0.  1.  0.]]\n",
      "Vh = [[-0.          0.          1.          0.          0.        ]\n",
      " [ 0.4472136   0.          0.          0.          0.89442719]\n",
      " [-0.          1.          0.          0.          0.        ]\n",
      " [ 0.          0.          0.          1.          0.        ]\n",
      " [-0.89442719  0.          0.          0.          0.4472136 ]]\n",
      "s = [ 3.          2.23606798  2.          0.        ]\n"
     ]
    }
   ],
   "source": [
    "U, s, Vh = svd(X)\n",
    "print('U = %s'% U)\n",
    "print('Vh = %s'% Vh)\n",
    "print('s = %s'% s)"
   ]
  },
  {
   "cell_type": "markdown",
   "metadata": {},
   "source": [
    "Then I try to identify what are the attributes obtained by sklearn.decomposition.PCA"
   ]
  },
  {
   "cell_type": "code",
   "execution_count": 15,
   "metadata": {},
   "outputs": [
    {
     "name": "stdout",
     "output_type": "stream",
     "text": [
      "[[ -1.47295237e-01  -2.15005028e-01   9.19398392e-01  -0.00000000e+00\n",
      "   -2.94590475e-01]\n",
      " [  3.31294578e-01  -6.62589156e-01   1.10431526e-01   0.00000000e+00\n",
      "    6.62589156e-01]\n",
      " [ -2.61816759e-01  -7.17459719e-01  -3.77506920e-01   0.00000000e+00\n",
      "   -5.23633519e-01]\n",
      " [  8.94427191e-01  -2.92048264e-16  -7.93318415e-17   0.00000000e+00\n",
      "   -4.47213595e-01]]\n",
      "[  2.77516885e+00   2.12132034e+00   1.13949018e+00   1.69395499e-16]\n"
     ]
    }
   ],
   "source": [
    "pca = PCA(svd_solver='auto', whiten=True)\n",
    "pca.fit(X)\n",
    "print(pca.components_)\n",
    "print(pca.singular_values_)"
   ]
  },
  {
   "cell_type": "markdown",
   "metadata": {},
   "source": [
    "What is pca.components_ ? Is it the principal components as explained here:\n",
    "    https://stats.stackexchange.com/questions/134282/relationship-between-svd-and-pca-how-to-use-svd-to-perform-pca#134283\n",
    "    i.e. the columns of $$XV$$?"
   ]
  },
  {
   "cell_type": "code",
   "execution_count": 4,
   "metadata": {},
   "outputs": [],
   "source": [
    "S = np.array([[s[0], 0, 0, 0, 0],\n",
    "              [0, s[1], 0, 0, 0],\n",
    "              [0, 0, s[2], 0, 0],\n",
    "              [0, 0, 0, s[3], 0]])"
   ]
  },
  {
   "cell_type": "code",
   "execution_count": 17,
   "metadata": {},
   "outputs": [
    {
     "name": "stdout",
     "output_type": "stream",
     "text": [
      "The theoretical principal components are the colums of XV:\n",
      "XV = [[  0.00000000e+00   2.23606798e+00   0.00000000e+00   0.00000000e+00\n",
      "    4.44089210e-16]\n",
      " [  3.00000000e+00   0.00000000e+00   0.00000000e+00   0.00000000e+00\n",
      "    0.00000000e+00]\n",
      " [  0.00000000e+00   0.00000000e+00   0.00000000e+00   0.00000000e+00\n",
      "    0.00000000e+00]\n",
      " [  0.00000000e+00   0.00000000e+00   2.00000000e+00   0.00000000e+00\n",
      "    0.00000000e+00]]\n"
     ]
    }
   ],
   "source": [
    "print('The theoretical principal components are the colums of XV:')\n",
    "print('XV = %s' %X.dot(Vh.T))"
   ]
  },
  {
   "cell_type": "markdown",
   "metadata": {},
   "source": [
    "It doesn't look like it. Is it the loadings? According to this page:\n",
    "http://www.nxn.se/valent/loadings-with-scikit-learn-pca\n",
    "it is supposed to be the loadings. And according to this page:\n",
    "https://stats.stackexchange.com/questions/134282/relationship-between-svd-and-pca-how-to-use-svd-to-perform-pca#134283\n",
    "the loadings are supposed to be equal to the rows of \n",
    "$$ \\frac{1}{\\sqrt{n-1}} SV^T $$."
   ]
  },
  {
   "cell_type": "code",
   "execution_count": 14,
   "metadata": {},
   "outputs": [
    {
     "data": {
      "text/plain": [
       "array([[ 0.        ,  0.        ,  5.19615242,  0.        ,  0.        ],\n",
       "       [ 1.73205081,  0.        ,  0.        ,  0.        ,  3.46410162],\n",
       "       [ 0.        ,  3.46410162,  0.        ,  0.        ,  0.        ],\n",
       "       [ 0.        ,  0.        ,  0.        ,  0.        ,  0.        ]])"
      ]
     },
     "execution_count": 14,
     "metadata": {},
     "output_type": "execute_result"
    }
   ],
   "source": [
    "(3**(1/2))*S.dot(Vh)"
   ]
  },
  {
   "cell_type": "markdown",
   "metadata": {},
   "source": [
    "But it doesn't look like it."
   ]
  },
  {
   "cell_type": "code",
   "execution_count": null,
   "metadata": {
    "collapsed": true
   },
   "outputs": [],
   "source": []
  }
 ],
 "metadata": {
  "kernelspec": {
   "display_name": "Python 3",
   "language": "python",
   "name": "python3"
  },
  "language_info": {
   "codemirror_mode": {
    "name": "ipython",
    "version": 3
   },
   "file_extension": ".py",
   "mimetype": "text/x-python",
   "name": "python",
   "nbconvert_exporter": "python",
   "pygments_lexer": "ipython3",
   "version": "3.6.2"
  }
 },
 "nbformat": 4,
 "nbformat_minor": 2
}
