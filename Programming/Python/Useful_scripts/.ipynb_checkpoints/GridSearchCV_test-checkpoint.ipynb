{
 "cells": [
  {
   "cell_type": "markdown",
   "metadata": {
    "collapsed": true
   },
   "source": [
    "In this script I will try to understand how GridSearchCV works"
   ]
  },
  {
   "cell_type": "code",
   "execution_count": 1,
   "metadata": {
    "collapsed": true
   },
   "outputs": [],
   "source": [
    "from sklearn import datasets, svm\n",
    "from sklearn.decomposition import PCA\n",
    "from sklearn.model_selection import GridSearchCV, cross_val_score, StratifiedKFold\n",
    "import numpy as np\n",
    "from sklearn.pipeline import Pipeline\n",
    "\n",
    "digits = datasets.load_digits()\n",
    "X_digits = digits.data\n",
    "y_digits = digits.target\n",
    "svc = svm.SVC(C=1, kernel='linear')\n",
    "parameters = {'C': 10 ** np.linspace(-1, 3, 3)}"
   ]
  },
  {
   "cell_type": "markdown",
   "metadata": {},
   "source": [
    "First we use the basic default parameter."
   ]
  },
  {
   "cell_type": "code",
   "execution_count": 2,
   "metadata": {},
   "outputs": [
    {
     "name": "stdout",
     "output_type": "stream",
     "text": [
      "{'mean_fit_time': array([ 0.03057806,  0.02522691,  0.02462053]), 'std_fit_time': array([ 0.00431713,  0.0014018 ,  0.00097326]), 'mean_score_time': array([ 0.01617161,  0.01420116,  0.01381707]), 'std_score_time': array([ 0.00091624,  0.00049559,  0.00022903]), 'param_C': masked_array(data = [0.10000000000000001 10.0 1000.0],\n",
      "             mask = [False False False],\n",
      "       fill_value = ?)\n",
      ", 'params': [{'C': 0.10000000000000001}, {'C': 10.0}, {'C': 1000.0}], 'split0_test_score': array([ 0.93521595,  0.93521595,  0.93521595]), 'split1_test_score': array([ 0.95826377,  0.95826377,  0.95826377]), 'split2_test_score': array([ 0.93791946,  0.93791946,  0.93791946]), 'mean_test_score': array([ 0.94379521,  0.94379521,  0.94379521]), 'std_test_score': array([ 0.01029018,  0.01029018,  0.01029018]), 'rank_test_score': array([1, 1, 1], dtype=int32), 'split0_train_score': array([ 1.,  1.,  1.]), 'split1_train_score': array([ 1.,  1.,  1.]), 'split2_train_score': array([ 1.,  1.,  1.]), 'mean_train_score': array([ 1.,  1.,  1.]), 'std_train_score': array([ 0.,  0.,  0.])}\n"
     ]
    }
   ],
   "source": [
    "grid = GridSearchCV(svc, parameters, cv=3)\n",
    "grid.fit(X_digits, y_digits)\n",
    "print(grid.cv_results_)"
   ]
  },
  {
   "cell_type": "markdown",
   "metadata": {},
   "source": [
    "Second we use StratifiedKFold to split our data."
   ]
  },
  {
   "cell_type": "code",
   "execution_count": 11,
   "metadata": {},
   "outputs": [
    {
     "name": "stdout",
     "output_type": "stream",
     "text": [
      "{'mean_fit_time': array([ 0.02780326,  0.0239656 ,  0.02332878]), 'std_fit_time': array([ 0.00496753,  0.00120074,  0.00080675]), 'mean_score_time': array([ 0.01519457,  0.01382144,  0.01330884]), 'std_score_time': array([ 0.00204237,  0.00058719,  0.00011681]), 'param_C': masked_array(data = [0.01 0.5 1],\n",
      "             mask = [False False False],\n",
      "       fill_value = ?)\n",
      ", 'params': [{'C': 0.01}, {'C': 0.5}, {'C': 1}], 'split0_test_score': array([ 0.93521595,  0.93521595,  0.93521595]), 'split1_test_score': array([ 0.95826377,  0.95826377,  0.95826377]), 'split2_test_score': array([ 0.93791946,  0.93791946,  0.93791946]), 'mean_test_score': array([ 0.94379521,  0.94379521,  0.94379521]), 'std_test_score': array([ 0.01029018,  0.01029018,  0.01029018]), 'rank_test_score': array([1, 1, 1], dtype=int32), 'split0_train_score': array([ 0.99832636,  1.        ,  1.        ]), 'split1_train_score': array([ 1.,  1.,  1.]), 'split2_train_score': array([ 1.,  1.,  1.]), 'mean_train_score': array([ 0.99944212,  1.        ,  1.        ]), 'std_train_score': array([ 0.00078896,  0.        ,  0.        ])}\n"
     ]
    }
   ],
   "source": [
    "strat_k_fold = StratifiedKFold(random_state=10, n_splits=3)\n",
    "grid = GridSearchCV(svc, parameters, cv=strat_k_fold)\n",
    "grid.fit(X_digits, y_digits)\n",
    "print(grid.cv_results_)"
   ]
  },
  {
   "cell_type": "markdown",
   "metadata": {},
   "source": [
    "Now with a pipeline."
   ]
  },
  {
   "cell_type": "code",
   "execution_count": 5,
   "metadata": {
    "collapsed": true
   },
   "outputs": [],
   "source": [
    "pca = PCA()\n",
    "pipeline = Pipeline(steps = [('pca', pca), ('svc', svc)])\n",
    "#parameters2 = {'pca__n_components': [5, 10, 20], 'svc__C': 10 ** np.linspace(-2, 3)}\n",
    "parameters2 = {'pca__n_components': [5, 10, 20], 'svc__C': 10 ** np.linspace(start=-2, stop=1, num=4)}"
   ]
  },
  {
   "cell_type": "code",
   "execution_count": 6,
   "metadata": {
    "collapsed": true
   },
   "outputs": [],
   "source": [
    "grid2 = GridSearchCV(pipeline, parameters2, cv=3)"
   ]
  },
  {
   "cell_type": "code",
   "execution_count": 7,
   "metadata": {},
   "outputs": [
    {
     "name": "stdout",
     "output_type": "stream",
     "text": [
      "{'pca__n_components': 20, 'svc__C': 0.10000000000000001}\n",
      "0.936004451864\n"
     ]
    }
   ],
   "source": [
    "grid2.fit(X_digits, y_digits)\n",
    "print(grid2.best_params_)\n",
    "print(grid2.best_score_)"
   ]
  },
  {
   "cell_type": "markdown",
   "metadata": {},
   "source": [
    "Let's try to print the 3 best sets of parameters.\n",
    "\n",
    "Since the attribute 'params' is a list one has to use comprehension list to subset it."
   ]
  },
  {
   "cell_type": "code",
   "execution_count": 23,
   "metadata": {},
   "outputs": [
    {
     "name": "stdout",
     "output_type": "stream",
     "text": [
      "<class 'dict'>\n",
      "[ 0.84028937  0.83750696  0.83361157  0.83305509  0.92487479  0.92376183\n",
      "  0.91819699  0.91708403  0.93377852  0.93600445  0.93600445  0.93600445]\n",
      "<class 'numpy.ndarray'>\n"
     ]
    }
   ],
   "source": [
    "grid_results = grid2.cv_results_\n",
    "print(type(grid_results))\n",
    "print(grid_results['mean_test_score'])\n",
    "print(type(grid_results['mean_test_score']))"
   ]
  },
  {
   "cell_type": "code",
   "execution_count": 24,
   "metadata": {},
   "outputs": [
    {
     "name": "stdout",
     "output_type": "stream",
     "text": [
      "[ 3  2  1  0  7  6  5  4  8  9 10 11]\n",
      "<class 'list'>\n",
      "<class 'numpy.ndarray'>\n",
      "[{'pca__n_components': 10, 'svc__C': 0.01}, {'pca__n_components': 20, 'svc__C': 0.01}, {'pca__n_components': 20, 'svc__C': 0.10000000000000001}, {'pca__n_components': 20, 'svc__C': 1.0}, {'pca__n_components': 20, 'svc__C': 10.0}]\n"
     ]
    }
   ],
   "source": [
    "ranking_results = np.argsort(grid_results['mean_test_score'])\n",
    "print(ranking_results)\n",
    "print(type(grid_results['params']))\n",
    "print(type(ranking_results[-5:]))\n",
    "best_params = [grid_results['params'][i] for i in ranking_results[-5:]]\n",
    "print(best_params)"
   ]
  },
  {
   "cell_type": "code",
   "execution_count": null,
   "metadata": {
    "collapsed": true
   },
   "outputs": [],
   "source": []
  }
 ],
 "metadata": {
  "kernelspec": {
   "display_name": "Python 3",
   "language": "python",
   "name": "python3"
  },
  "language_info": {
   "codemirror_mode": {
    "name": "ipython",
    "version": 3
   },
   "file_extension": ".py",
   "mimetype": "text/x-python",
   "name": "python",
   "nbconvert_exporter": "python",
   "pygments_lexer": "ipython3",
   "version": "3.6.2"
  }
 },
 "nbformat": 4,
 "nbformat_minor": 2
}
