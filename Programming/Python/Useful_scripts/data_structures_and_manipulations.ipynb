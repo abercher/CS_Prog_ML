{
 "cells": [
  {
   "cell_type": "markdown",
   "metadata": {},
   "source": [
    "# Data structures and how to manipulate them"
   ]
  },
  {
   "cell_type": "markdown",
   "metadata": {},
   "source": [
    "In this notebook, I will try to gather some commands to manipulate data structures in python."
   ]
  },
  {
   "cell_type": "markdown",
   "metadata": {},
   "source": [
    "## Numpy arrays"
   ]
  },
  {
   "cell_type": "markdown",
   "metadata": {},
   "source": [
    "I will try to put here some common array transformation that I find useful."
   ]
  },
  {
   "cell_type": "code",
   "execution_count": 2,
   "metadata": {
    "collapsed": true
   },
   "outputs": [],
   "source": [
    "import numpy as np"
   ]
  },
  {
   "cell_type": "code",
   "execution_count": 6,
   "metadata": {},
   "outputs": [
    {
     "name": "stdout",
     "output_type": "stream",
     "text": [
      "[[[ 0  1]\n",
      "  [ 2  3]]\n",
      "\n",
      " [[ 4  5]\n",
      "  [ 6  7]]\n",
      "\n",
      " [[ 8  9]\n",
      "  [10 11]]]\n"
     ]
    }
   ],
   "source": [
    "X = np.arange(12).reshape(3, 2, 2)\n",
    "print(X)"
   ]
  },
  {
   "cell_type": "markdown",
   "metadata": {},
   "source": [
    "Reshaping an array by \"flattening the last dimension\""
   ]
  },
  {
   "cell_type": "code",
   "execution_count": 7,
   "metadata": {},
   "outputs": [
    {
     "name": "stdout",
     "output_type": "stream",
     "text": [
      "[[ 0  1  2  3]\n",
      " [ 4  5  6  7]\n",
      " [ 8  9 10 11]]\n"
     ]
    }
   ],
   "source": [
    "X_reshaped = X.reshape((X.shape[0], -1))\n",
    "print(X_reshaped)"
   ]
  },
  {
   "cell_type": "markdown",
   "metadata": {},
   "source": [
    "Sorting the entries of an array."
   ]
  },
  {
   "cell_type": "code",
   "execution_count": 12,
   "metadata": {},
   "outputs": [
    {
     "name": "stdout",
     "output_type": "stream",
     "text": [
      "[3 1 0 4 2]\n"
     ]
    }
   ],
   "source": [
    "A = np.array([2, 1, 10, 0.5, 7])\n",
    "ind_sorted_A = np.argsort(A)\n",
    "print(ind_sorted_A)"
   ]
  },
  {
   "cell_type": "code",
   "execution_count": 14,
   "metadata": {},
   "outputs": [
    {
     "name": "stdout",
     "output_type": "stream",
     "text": [
      " The lowest value of A are\n",
      "[ 0.5  1. ]\n"
     ]
    }
   ],
   "source": [
    "print(\" The 2 lowest value of A are\")\n",
    "print(A[ind_sorted_A[:2]])"
   ]
  },
  {
   "cell_type": "code",
   "execution_count": 15,
   "metadata": {},
   "outputs": [
    {
     "name": "stdout",
     "output_type": "stream",
     "text": [
      " The 2 highest value of A are\n",
      "[  7.  10.]\n"
     ]
    }
   ],
   "source": [
    "print(\" The 2 highest value of A are\")\n",
    "print(A[ind_sorted_A[-2:]])"
   ]
  },
  {
   "cell_type": "markdown",
   "metadata": {},
   "source": [
    "If one has an array of complex values (typically obtained form np.fft.fft) and one wants to keep only some values different from zero, one can proceed in the following way:"
   ]
  },
  {
   "cell_type": "code",
   "execution_count": 4,
   "metadata": {},
   "outputs": [
    {
     "name": "stdout",
     "output_type": "stream",
     "text": [
      "[[ 0.+0.j  1.+0.j  2.+0.j  3.+0.j]\n",
      " [ 4.+0.j  5.+0.j  6.+0.j  7.+0.j]]\n",
      "[[ 0.+0.j  1.+0.j  2.+0.j  0.+0.j]\n",
      " [ 4.+0.j  5.+0.j  6.+0.j  0.+0.j]]\n"
     ]
    }
   ],
   "source": [
    "X = np.arange(8, dtype = np.complex128).reshape(2, 4)\n",
    "print(X)\n",
    "X_trunc = np.complex_(np.zeros(shape=np.shape(X)))\n",
    "X_trunc[:, range(3)] = X[:, range(3)]\n",
    "print(X_trunc)"
   ]
  },
  {
   "cell_type": "markdown",
   "metadata": {},
   "source": [
    "In order to transform an array of complex values to an array of $\\mathbb{R}^2$ values, one can proceed this way (note that it is important to use at least float64 for complex128).\n",
    "\n",
    "There is also an issue with 'C-contiguity' and 'Fortran-contiguity' discussed there:\n",
    "https://stackoverflow.com/questions/47796207/subsetting-affects-viewnp-float64-behaviour"
   ]
  },
  {
   "cell_type": "code",
   "execution_count": 3,
   "metadata": {},
   "outputs": [
    {
     "name": "stdout",
     "output_type": "stream",
     "text": [
      "[[ 0.+0.j  1.+0.j  2.+0.j  3.+0.j]\n",
      " [ 4.+0.j  5.+0.j  6.+0.j  7.+0.j]]\n",
      "[[ 0.  0.  1.  0.  2.  0.  3.  0.]\n",
      " [ 4.  0.  5.  0.  6.  0.  7.  0.]]\n"
     ]
    }
   ],
   "source": [
    "X = np.arange(8, dtype = np.complex128).reshape(2, 4)\n",
    "print(X)\n",
    "X_r = X.view(np.float64).copy()\n",
    "print(X_r)"
   ]
  },
  {
   "cell_type": "markdown",
   "metadata": {},
   "source": [
    "The copy part is important otherwise changing X_r also changes X:"
   ]
  },
  {
   "cell_type": "code",
   "execution_count": 5,
   "metadata": {},
   "outputs": [
    {
     "name": "stdout",
     "output_type": "stream",
     "text": [
      "[[ 1.  0.  1.  0.  2.  0.  3.  0.]\n",
      " [ 4.  0.  5.  0.  6.  0.  7.  0.]]\n",
      "[[ 0.+0.j  1.+0.j  2.+0.j  3.+0.j]\n",
      " [ 4.+0.j  5.+0.j  6.+0.j  7.+0.j]]\n",
      "[[ 42.   0.   1.   0.   2.   0.   3.   0.]\n",
      " [  4.   0.   5.   0.   6.   0.   7.   0.]]\n",
      "[[ 42.+0.j   1.+0.j   2.+0.j   3.+0.j]\n",
      " [  4.+0.j   5.+0.j   6.+0.j   7.+0.j]]\n"
     ]
    }
   ],
   "source": [
    "X_r[0, 0] = 1\n",
    "print(X_r)\n",
    "print(X)\n",
    "X_r2 = X.view(np.float64)\n",
    "X_r2[0, 0] = 42\n",
    "print(X_r2)\n",
    "print(X)"
   ]
  },
  {
   "cell_type": "markdown",
   "metadata": {},
   "source": [
    "The next cells come from the examples from the doc:\n",
    "\n",
    "https://docs.scipy.org/doc/numpy-1.13.0/reference/arrays.indexing.html#detailed-notes\n",
    "\n",
    "and are about indexing."
   ]
  },
  {
   "cell_type": "code",
   "execution_count": 12,
   "metadata": {},
   "outputs": [
    {
     "name": "stdout",
     "output_type": "stream",
     "text": [
      "x = \n",
      "[[[1]\n",
      "  [2]\n",
      "  [3]]\n",
      "\n",
      " [[4]\n",
      "  [5]\n",
      "  [6]]]\n",
      "y = \n",
      "[[0 1]\n",
      " [2 3]]\n",
      "[[1 2 3]\n",
      " [4 5 6]]\n",
      "[1 3]\n"
     ]
    }
   ],
   "source": [
    "x = np.array([[[1],[2],[3]], [[4],[5],[6]]])\n",
    "print('x = ')\n",
    "print(x)\n",
    "y = np.arange(4).reshape(2, 2)\n",
    "print('y = ')\n",
    "print(y)\n",
    "print(x[..., 0])\n",
    "print(y[..., 1])"
   ]
  },
  {
   "cell_type": "code",
   "execution_count": 14,
   "metadata": {},
   "outputs": [
    {
     "name": "stdout",
     "output_type": "stream",
     "text": [
      "[1 4 5]\n"
     ]
    }
   ],
   "source": [
    "x = np.array([[1, 2], [3, 4], [5, 6]])\n",
    "print(x[[0, 1, 2], [0, 1, 0]])"
   ]
  }
 ],
 "metadata": {
  "kernelspec": {
   "display_name": "Python 3",
   "language": "python",
   "name": "python3"
  },
  "language_info": {
   "codemirror_mode": {
    "name": "ipython",
    "version": 3
   },
   "file_extension": ".py",
   "mimetype": "text/x-python",
   "name": "python",
   "nbconvert_exporter": "python",
   "pygments_lexer": "ipython3",
   "version": "3.6.3"
  }
 },
 "nbformat": 4,
 "nbformat_minor": 2
}
